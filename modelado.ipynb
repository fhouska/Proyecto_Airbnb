{
 "cells": [
  {
   "attachments": {},
   "cell_type": "markdown",
   "metadata": {},
   "source": [
    "# 6. Modelado"
   ]
  },
  {
   "attachments": {},
   "cell_type": "markdown",
   "metadata": {},
   "source": [
    "Para a realizar este modelo utilizamos la librería **pycaret** \n",
    "Definimos la variable **precio_euro** como nuestra variable objetivo y se selecciona el modelo de regresión lineal.\n",
    "\n",
    "En la implementación de este modelo, utilizamos la biblioteca **pycaret**. Nuestro objetivo principal es predecir la variable **\"precio_euro\"**, por lo que la configuramos como nuestra variable objetivo. Para lograr esto, elegimos el modelo de regresión lineal.\n"
   ]
  },
  {
   "cell_type": "code",
   "execution_count": 1,
   "metadata": {},
   "outputs": [],
   "source": [
    "import pandas as pd\n",
    "import seaborn as sns"
   ]
  },
  {
   "cell_type": "code",
   "execution_count": 2,
   "metadata": {},
   "outputs": [],
   "source": [
    "df = pd.read_csv('df_limpio.csv')"
   ]
  },
  {
   "cell_type": "code",
   "execution_count": 3,
   "metadata": {},
   "outputs": [
    {
     "data": {
      "text/html": [
       "<div>\n",
       "<style scoped>\n",
       "    .dataframe tbody tr th:only-of-type {\n",
       "        vertical-align: middle;\n",
       "    }\n",
       "\n",
       "    .dataframe tbody tr th {\n",
       "        vertical-align: top;\n",
       "    }\n",
       "\n",
       "    .dataframe thead th {\n",
       "        text-align: right;\n",
       "    }\n",
       "</style>\n",
       "<table border=\"1\" class=\"dataframe\">\n",
       "  <thead>\n",
       "    <tr style=\"text-align: right;\">\n",
       "      <th></th>\n",
       "      <th>neighbourhood</th>\n",
       "      <th>property_type</th>\n",
       "      <th>accommodates</th>\n",
       "      <th>room_type</th>\n",
       "      <th>maximum_nights</th>\n",
       "      <th>minimum_nights</th>\n",
       "      <th>price_euro</th>\n",
       "    </tr>\n",
       "  </thead>\n",
       "  <tbody>\n",
       "    <tr>\n",
       "      <th>0</th>\n",
       "      <td>Besiktas</td>\n",
       "      <td>Entire rental unit</td>\n",
       "      <td>3</td>\n",
       "      <td>Entire home/apt</td>\n",
       "      <td>1125</td>\n",
       "      <td>25</td>\n",
       "      <td>95</td>\n",
       "    </tr>\n",
       "    <tr>\n",
       "      <th>1</th>\n",
       "      <td>Beyoglu</td>\n",
       "      <td>Entire rental unit</td>\n",
       "      <td>2</td>\n",
       "      <td>Entire home/apt</td>\n",
       "      <td>90</td>\n",
       "      <td>10</td>\n",
       "      <td>47</td>\n",
       "    </tr>\n",
       "    <tr>\n",
       "      <th>2</th>\n",
       "      <td>Beyoglu</td>\n",
       "      <td>Entire rental unit</td>\n",
       "      <td>4</td>\n",
       "      <td>Entire home/apt</td>\n",
       "      <td>365</td>\n",
       "      <td>28</td>\n",
       "      <td>51</td>\n",
       "    </tr>\n",
       "    <tr>\n",
       "      <th>3</th>\n",
       "      <td>Sisli</td>\n",
       "      <td>Private room in loft</td>\n",
       "      <td>2</td>\n",
       "      <td>Private room</td>\n",
       "      <td>10</td>\n",
       "      <td>2</td>\n",
       "      <td>17</td>\n",
       "    </tr>\n",
       "    <tr>\n",
       "      <th>4</th>\n",
       "      <td>Sisli</td>\n",
       "      <td>Entire serviced apartment</td>\n",
       "      <td>5</td>\n",
       "      <td>Entire home/apt</td>\n",
       "      <td>360</td>\n",
       "      <td>10</td>\n",
       "      <td>84</td>\n",
       "    </tr>\n",
       "  </tbody>\n",
       "</table>\n",
       "</div>"
      ],
      "text/plain": [
       "  neighbourhood              property_type  accommodates        room_type  \\\n",
       "0      Besiktas         Entire rental unit             3  Entire home/apt   \n",
       "1       Beyoglu         Entire rental unit             2  Entire home/apt   \n",
       "2       Beyoglu         Entire rental unit             4  Entire home/apt   \n",
       "3         Sisli       Private room in loft             2     Private room   \n",
       "4         Sisli  Entire serviced apartment             5  Entire home/apt   \n",
       "\n",
       "   maximum_nights  minimum_nights  price_euro  \n",
       "0            1125              25          95  \n",
       "1              90              10          47  \n",
       "2             365              28          51  \n",
       "3              10               2          17  \n",
       "4             360              10          84  "
      ]
     },
     "execution_count": 3,
     "metadata": {},
     "output_type": "execute_result"
    }
   ],
   "source": [
    "#Seleccionamos las variables que nos interesan en un nuevo df\n",
    "df_modelo = df.copy()\n",
    "df_modelo = df_modelo[['neighbourhood', 'property_type', 'accommodates', 'room_type', 'maximum_nights', 'minimum_nights','price_euro']]\n",
    "df_modelo.head() "
   ]
  },
  {
   "cell_type": "code",
   "execution_count": 4,
   "metadata": {},
   "outputs": [
    {
     "name": "stdout",
     "output_type": "stream",
     "text": [
      "El df esta formado por:  41501 filas y 7 columnas\n",
      "Cantidad de valores duplicados:  7591\n",
      "Cantidad de valores nulos:  0\n"
     ]
    }
   ],
   "source": [
    "print('El df esta formado por: ', df_modelo.shape[0], 'filas y', df_modelo.shape[1], 'columnas')\n",
    "print('Cantidad de valores duplicados: ',df_modelo.duplicated().sum())\n",
    "print('Cantidad de valores nulos: ', df_modelo.isnull().sum().sum())"
   ]
  },
  {
   "cell_type": "code",
   "execution_count": 5,
   "metadata": {},
   "outputs": [
    {
     "data": {
      "text/plain": [
       "<Axes: xlabel='room_type', ylabel='price_euro'>"
      ]
     },
     "execution_count": 5,
     "metadata": {},
     "output_type": "execute_result"
    },
    {
     "data": {
      "image/png": "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",
      "text/plain": [
       "<Figure size 640x480 with 1 Axes>"
      ]
     },
     "metadata": {},
     "output_type": "display_data"
    }
   ],
   "source": [
    "sns.boxplot(x=\"room_type\", y=\"price_euro\", data=df_modelo,palette='rainbow')"
   ]
  },
  {
   "attachments": {},
   "cell_type": "markdown",
   "metadata": {},
   "source": [
    "# Modelización"
   ]
  },
  {
   "cell_type": "code",
   "execution_count": 6,
   "metadata": {},
   "outputs": [],
   "source": [
    "#importamos pycaret regression para calcular el price\n",
    "from pycaret.regression import *"
   ]
  },
  {
   "cell_type": "code",
   "execution_count": 7,
   "metadata": {},
   "outputs": [
    {
     "data": {
      "text/html": [
       "<style type=\"text/css\">\n",
       "#T_e6429_row9_col1, #T_e6429_row15_col1 {\n",
       "  background-color: lightgreen;\n",
       "}\n",
       "</style>\n",
       "<table id=\"T_e6429\">\n",
       "  <thead>\n",
       "    <tr>\n",
       "      <th class=\"blank level0\" >&nbsp;</th>\n",
       "      <th id=\"T_e6429_level0_col0\" class=\"col_heading level0 col0\" >Description</th>\n",
       "      <th id=\"T_e6429_level0_col1\" class=\"col_heading level0 col1\" >Value</th>\n",
       "    </tr>\n",
       "  </thead>\n",
       "  <tbody>\n",
       "    <tr>\n",
       "      <th id=\"T_e6429_level0_row0\" class=\"row_heading level0 row0\" >0</th>\n",
       "      <td id=\"T_e6429_row0_col0\" class=\"data row0 col0\" >Session id</td>\n",
       "      <td id=\"T_e6429_row0_col1\" class=\"data row0 col1\" >4574</td>\n",
       "    </tr>\n",
       "    <tr>\n",
       "      <th id=\"T_e6429_level0_row1\" class=\"row_heading level0 row1\" >1</th>\n",
       "      <td id=\"T_e6429_row1_col0\" class=\"data row1 col0\" >Target</td>\n",
       "      <td id=\"T_e6429_row1_col1\" class=\"data row1 col1\" >price_euro</td>\n",
       "    </tr>\n",
       "    <tr>\n",
       "      <th id=\"T_e6429_level0_row2\" class=\"row_heading level0 row2\" >2</th>\n",
       "      <td id=\"T_e6429_row2_col0\" class=\"data row2 col0\" >Target type</td>\n",
       "      <td id=\"T_e6429_row2_col1\" class=\"data row2 col1\" >Regression</td>\n",
       "    </tr>\n",
       "    <tr>\n",
       "      <th id=\"T_e6429_level0_row3\" class=\"row_heading level0 row3\" >3</th>\n",
       "      <td id=\"T_e6429_row3_col0\" class=\"data row3 col0\" >Original data shape</td>\n",
       "      <td id=\"T_e6429_row3_col1\" class=\"data row3 col1\" >(41501, 7)</td>\n",
       "    </tr>\n",
       "    <tr>\n",
       "      <th id=\"T_e6429_level0_row4\" class=\"row_heading level0 row4\" >4</th>\n",
       "      <td id=\"T_e6429_row4_col0\" class=\"data row4 col0\" >Transformed data shape</td>\n",
       "      <td id=\"T_e6429_row4_col1\" class=\"data row4 col1\" >(40048, 10)</td>\n",
       "    </tr>\n",
       "    <tr>\n",
       "      <th id=\"T_e6429_level0_row5\" class=\"row_heading level0 row5\" >5</th>\n",
       "      <td id=\"T_e6429_row5_col0\" class=\"data row5 col0\" >Transformed train set shape</td>\n",
       "      <td id=\"T_e6429_row5_col1\" class=\"data row5 col1\" >(27597, 10)</td>\n",
       "    </tr>\n",
       "    <tr>\n",
       "      <th id=\"T_e6429_level0_row6\" class=\"row_heading level0 row6\" >6</th>\n",
       "      <td id=\"T_e6429_row6_col0\" class=\"data row6 col0\" >Transformed test set shape</td>\n",
       "      <td id=\"T_e6429_row6_col1\" class=\"data row6 col1\" >(12451, 10)</td>\n",
       "    </tr>\n",
       "    <tr>\n",
       "      <th id=\"T_e6429_level0_row7\" class=\"row_heading level0 row7\" >7</th>\n",
       "      <td id=\"T_e6429_row7_col0\" class=\"data row7 col0\" >Numeric features</td>\n",
       "      <td id=\"T_e6429_row7_col1\" class=\"data row7 col1\" >3</td>\n",
       "    </tr>\n",
       "    <tr>\n",
       "      <th id=\"T_e6429_level0_row8\" class=\"row_heading level0 row8\" >8</th>\n",
       "      <td id=\"T_e6429_row8_col0\" class=\"data row8 col0\" >Categorical features</td>\n",
       "      <td id=\"T_e6429_row8_col1\" class=\"data row8 col1\" >3</td>\n",
       "    </tr>\n",
       "    <tr>\n",
       "      <th id=\"T_e6429_level0_row9\" class=\"row_heading level0 row9\" >9</th>\n",
       "      <td id=\"T_e6429_row9_col0\" class=\"data row9 col0\" >Preprocess</td>\n",
       "      <td id=\"T_e6429_row9_col1\" class=\"data row9 col1\" >True</td>\n",
       "    </tr>\n",
       "    <tr>\n",
       "      <th id=\"T_e6429_level0_row10\" class=\"row_heading level0 row10\" >10</th>\n",
       "      <td id=\"T_e6429_row10_col0\" class=\"data row10 col0\" >Imputation type</td>\n",
       "      <td id=\"T_e6429_row10_col1\" class=\"data row10 col1\" >simple</td>\n",
       "    </tr>\n",
       "    <tr>\n",
       "      <th id=\"T_e6429_level0_row11\" class=\"row_heading level0 row11\" >11</th>\n",
       "      <td id=\"T_e6429_row11_col0\" class=\"data row11 col0\" >Numeric imputation</td>\n",
       "      <td id=\"T_e6429_row11_col1\" class=\"data row11 col1\" >mean</td>\n",
       "    </tr>\n",
       "    <tr>\n",
       "      <th id=\"T_e6429_level0_row12\" class=\"row_heading level0 row12\" >12</th>\n",
       "      <td id=\"T_e6429_row12_col0\" class=\"data row12 col0\" >Categorical imputation</td>\n",
       "      <td id=\"T_e6429_row12_col1\" class=\"data row12 col1\" >mode</td>\n",
       "    </tr>\n",
       "    <tr>\n",
       "      <th id=\"T_e6429_level0_row13\" class=\"row_heading level0 row13\" >13</th>\n",
       "      <td id=\"T_e6429_row13_col0\" class=\"data row13 col0\" >Maximum one-hot encoding</td>\n",
       "      <td id=\"T_e6429_row13_col1\" class=\"data row13 col1\" >25</td>\n",
       "    </tr>\n",
       "    <tr>\n",
       "      <th id=\"T_e6429_level0_row14\" class=\"row_heading level0 row14\" >14</th>\n",
       "      <td id=\"T_e6429_row14_col0\" class=\"data row14 col0\" >Encoding method</td>\n",
       "      <td id=\"T_e6429_row14_col1\" class=\"data row14 col1\" >None</td>\n",
       "    </tr>\n",
       "    <tr>\n",
       "      <th id=\"T_e6429_level0_row15\" class=\"row_heading level0 row15\" >15</th>\n",
       "      <td id=\"T_e6429_row15_col0\" class=\"data row15 col0\" >Remove outliers</td>\n",
       "      <td id=\"T_e6429_row15_col1\" class=\"data row15 col1\" >True</td>\n",
       "    </tr>\n",
       "    <tr>\n",
       "      <th id=\"T_e6429_level0_row16\" class=\"row_heading level0 row16\" >16</th>\n",
       "      <td id=\"T_e6429_row16_col0\" class=\"data row16 col0\" >Outliers threshold</td>\n",
       "      <td id=\"T_e6429_row16_col1\" class=\"data row16 col1\" >0.050000</td>\n",
       "    </tr>\n",
       "    <tr>\n",
       "      <th id=\"T_e6429_level0_row17\" class=\"row_heading level0 row17\" >17</th>\n",
       "      <td id=\"T_e6429_row17_col0\" class=\"data row17 col0\" >Fold Generator</td>\n",
       "      <td id=\"T_e6429_row17_col1\" class=\"data row17 col1\" >KFold</td>\n",
       "    </tr>\n",
       "    <tr>\n",
       "      <th id=\"T_e6429_level0_row18\" class=\"row_heading level0 row18\" >18</th>\n",
       "      <td id=\"T_e6429_row18_col0\" class=\"data row18 col0\" >Fold Number</td>\n",
       "      <td id=\"T_e6429_row18_col1\" class=\"data row18 col1\" >10</td>\n",
       "    </tr>\n",
       "    <tr>\n",
       "      <th id=\"T_e6429_level0_row19\" class=\"row_heading level0 row19\" >19</th>\n",
       "      <td id=\"T_e6429_row19_col0\" class=\"data row19 col0\" >CPU Jobs</td>\n",
       "      <td id=\"T_e6429_row19_col1\" class=\"data row19 col1\" >-1</td>\n",
       "    </tr>\n",
       "    <tr>\n",
       "      <th id=\"T_e6429_level0_row20\" class=\"row_heading level0 row20\" >20</th>\n",
       "      <td id=\"T_e6429_row20_col0\" class=\"data row20 col0\" >Use GPU</td>\n",
       "      <td id=\"T_e6429_row20_col1\" class=\"data row20 col1\" >False</td>\n",
       "    </tr>\n",
       "    <tr>\n",
       "      <th id=\"T_e6429_level0_row21\" class=\"row_heading level0 row21\" >21</th>\n",
       "      <td id=\"T_e6429_row21_col0\" class=\"data row21 col0\" >Log Experiment</td>\n",
       "      <td id=\"T_e6429_row21_col1\" class=\"data row21 col1\" >False</td>\n",
       "    </tr>\n",
       "    <tr>\n",
       "      <th id=\"T_e6429_level0_row22\" class=\"row_heading level0 row22\" >22</th>\n",
       "      <td id=\"T_e6429_row22_col0\" class=\"data row22 col0\" >Experiment Name</td>\n",
       "      <td id=\"T_e6429_row22_col1\" class=\"data row22 col1\" >reg-default-name</td>\n",
       "    </tr>\n",
       "    <tr>\n",
       "      <th id=\"T_e6429_level0_row23\" class=\"row_heading level0 row23\" >23</th>\n",
       "      <td id=\"T_e6429_row23_col0\" class=\"data row23 col0\" >USI</td>\n",
       "      <td id=\"T_e6429_row23_col1\" class=\"data row23 col1\" >a99d</td>\n",
       "    </tr>\n",
       "  </tbody>\n",
       "</table>\n"
      ],
      "text/plain": [
       "<pandas.io.formats.style.Styler at 0x29cf1814280>"
      ]
     },
     "metadata": {},
     "output_type": "display_data"
    }
   ],
   "source": [
    "#hacemos un setup con visa a nuestro target price\n",
    "setup = setup(df_modelo, target = 'price_euro',remove_outliers = True)"
   ]
  },
  {
   "cell_type": "code",
   "execution_count": 8,
   "metadata": {},
   "outputs": [
    {
     "data": {
      "text/html": [
       "<div>\n",
       "<style scoped>\n",
       "    .dataframe tbody tr th:only-of-type {\n",
       "        vertical-align: middle;\n",
       "    }\n",
       "\n",
       "    .dataframe tbody tr th {\n",
       "        vertical-align: top;\n",
       "    }\n",
       "\n",
       "    .dataframe thead th {\n",
       "        text-align: right;\n",
       "    }\n",
       "</style>\n",
       "<table border=\"1\" class=\"dataframe\">\n",
       "  <thead>\n",
       "    <tr style=\"text-align: right;\">\n",
       "      <th></th>\n",
       "      <th></th>\n",
       "      <th></th>\n",
       "    </tr>\n",
       "    <tr>\n",
       "      <th></th>\n",
       "      <th></th>\n",
       "      <th></th>\n",
       "    </tr>\n",
       "  </thead>\n",
       "  <tbody>\n",
       "    <tr>\n",
       "      <th>Initiated</th>\n",
       "      <td>. . . . . . . . . . . . . . . . . .</td>\n",
       "      <td>18:25:27</td>\n",
       "    </tr>\n",
       "    <tr>\n",
       "      <th>Status</th>\n",
       "      <td>. . . . . . . . . . . . . . . . . .</td>\n",
       "      <td>Loading Estimator</td>\n",
       "    </tr>\n",
       "    <tr>\n",
       "      <th>Estimator</th>\n",
       "      <td>. . . . . . . . . . . . . . . . . .</td>\n",
       "      <td>Compiling Library</td>\n",
       "    </tr>\n",
       "  </tbody>\n",
       "</table>\n",
       "</div>"
      ],
      "text/plain": [
       "                                                                 \n",
       "                                                                 \n",
       "Initiated  . . . . . . . . . . . . . . . . . .           18:25:27\n",
       "Status     . . . . . . . . . . . . . . . . . .  Loading Estimator\n",
       "Estimator  . . . . . . . . . . . . . . . . . .  Compiling Library"
      ]
     },
     "metadata": {},
     "output_type": "display_data"
    },
    {
     "data": {
      "text/html": [
       "<style type=\"text/css\">\n",
       "#T_e3b81 th {\n",
       "  text-align: left;\n",
       "}\n",
       "#T_e3b81_row0_col0, #T_e3b81_row0_col1, #T_e3b81_row0_col2, #T_e3b81_row0_col3, #T_e3b81_row0_col5, #T_e3b81_row0_col6, #T_e3b81_row1_col0, #T_e3b81_row1_col1, #T_e3b81_row1_col4, #T_e3b81_row1_col5, #T_e3b81_row1_col6, #T_e3b81_row2_col0, #T_e3b81_row2_col1, #T_e3b81_row2_col2, #T_e3b81_row2_col3, #T_e3b81_row2_col4, #T_e3b81_row2_col5, #T_e3b81_row2_col6, #T_e3b81_row3_col0, #T_e3b81_row3_col1, #T_e3b81_row3_col2, #T_e3b81_row3_col3, #T_e3b81_row3_col4, #T_e3b81_row3_col5, #T_e3b81_row3_col6, #T_e3b81_row4_col0, #T_e3b81_row4_col1, #T_e3b81_row4_col2, #T_e3b81_row4_col3, #T_e3b81_row4_col4, #T_e3b81_row4_col5, #T_e3b81_row4_col6, #T_e3b81_row5_col0, #T_e3b81_row5_col1, #T_e3b81_row5_col2, #T_e3b81_row5_col3, #T_e3b81_row5_col4, #T_e3b81_row5_col5, #T_e3b81_row5_col6, #T_e3b81_row6_col0, #T_e3b81_row6_col1, #T_e3b81_row6_col2, #T_e3b81_row6_col3, #T_e3b81_row6_col4, #T_e3b81_row6_col5, #T_e3b81_row6_col6, #T_e3b81_row7_col0, #T_e3b81_row7_col2, #T_e3b81_row7_col3, #T_e3b81_row7_col4, #T_e3b81_row8_col0, #T_e3b81_row8_col1, #T_e3b81_row8_col2, #T_e3b81_row8_col3, #T_e3b81_row8_col4, #T_e3b81_row8_col5, #T_e3b81_row8_col6, #T_e3b81_row9_col0, #T_e3b81_row9_col1, #T_e3b81_row9_col2, #T_e3b81_row9_col3, #T_e3b81_row9_col4, #T_e3b81_row9_col5, #T_e3b81_row9_col6, #T_e3b81_row10_col0, #T_e3b81_row10_col1, #T_e3b81_row10_col2, #T_e3b81_row10_col3, #T_e3b81_row10_col4, #T_e3b81_row10_col5, #T_e3b81_row10_col6, #T_e3b81_row11_col0, #T_e3b81_row11_col1, #T_e3b81_row11_col2, #T_e3b81_row11_col3, #T_e3b81_row11_col4, #T_e3b81_row11_col5, #T_e3b81_row11_col6, #T_e3b81_row12_col0, #T_e3b81_row12_col1, #T_e3b81_row12_col2, #T_e3b81_row12_col3, #T_e3b81_row12_col4, #T_e3b81_row12_col5, #T_e3b81_row12_col6, #T_e3b81_row13_col0, #T_e3b81_row13_col1, #T_e3b81_row13_col2, #T_e3b81_row13_col3, #T_e3b81_row13_col4, #T_e3b81_row13_col5, #T_e3b81_row13_col6, #T_e3b81_row14_col0, #T_e3b81_row14_col1, #T_e3b81_row14_col2, #T_e3b81_row14_col3, #T_e3b81_row14_col4, #T_e3b81_row14_col5, #T_e3b81_row14_col6, #T_e3b81_row15_col0, #T_e3b81_row15_col1, #T_e3b81_row15_col2, #T_e3b81_row15_col3, #T_e3b81_row15_col4, #T_e3b81_row15_col5, #T_e3b81_row15_col6, #T_e3b81_row16_col0, #T_e3b81_row16_col1, #T_e3b81_row16_col2, #T_e3b81_row16_col3, #T_e3b81_row16_col4, #T_e3b81_row16_col5, #T_e3b81_row16_col6, #T_e3b81_row17_col0, #T_e3b81_row17_col1, #T_e3b81_row17_col2, #T_e3b81_row17_col3, #T_e3b81_row17_col4, #T_e3b81_row17_col5, #T_e3b81_row17_col6, #T_e3b81_row18_col0, #T_e3b81_row18_col1, #T_e3b81_row18_col2, #T_e3b81_row18_col3, #T_e3b81_row18_col4, #T_e3b81_row18_col5, #T_e3b81_row18_col6 {\n",
       "  text-align: left;\n",
       "}\n",
       "#T_e3b81_row0_col4, #T_e3b81_row1_col2, #T_e3b81_row1_col3, #T_e3b81_row7_col1, #T_e3b81_row7_col5, #T_e3b81_row7_col6 {\n",
       "  text-align: left;\n",
       "  background-color: yellow;\n",
       "}\n",
       "#T_e3b81_row0_col7, #T_e3b81_row1_col7, #T_e3b81_row3_col7, #T_e3b81_row4_col7, #T_e3b81_row5_col7, #T_e3b81_row6_col7, #T_e3b81_row7_col7, #T_e3b81_row8_col7, #T_e3b81_row9_col7, #T_e3b81_row10_col7, #T_e3b81_row11_col7, #T_e3b81_row12_col7, #T_e3b81_row13_col7, #T_e3b81_row14_col7, #T_e3b81_row15_col7, #T_e3b81_row16_col7, #T_e3b81_row17_col7, #T_e3b81_row18_col7 {\n",
       "  text-align: left;\n",
       "  background-color: lightgrey;\n",
       "}\n",
       "#T_e3b81_row2_col7 {\n",
       "  text-align: left;\n",
       "  background-color: yellow;\n",
       "  background-color: lightgrey;\n",
       "}\n",
       "</style>\n",
       "<table id=\"T_e3b81\">\n",
       "  <thead>\n",
       "    <tr>\n",
       "      <th class=\"blank level0\" >&nbsp;</th>\n",
       "      <th id=\"T_e3b81_level0_col0\" class=\"col_heading level0 col0\" >Model</th>\n",
       "      <th id=\"T_e3b81_level0_col1\" class=\"col_heading level0 col1\" >MAE</th>\n",
       "      <th id=\"T_e3b81_level0_col2\" class=\"col_heading level0 col2\" >MSE</th>\n",
       "      <th id=\"T_e3b81_level0_col3\" class=\"col_heading level0 col3\" >RMSE</th>\n",
       "      <th id=\"T_e3b81_level0_col4\" class=\"col_heading level0 col4\" >R2</th>\n",
       "      <th id=\"T_e3b81_level0_col5\" class=\"col_heading level0 col5\" >RMSLE</th>\n",
       "      <th id=\"T_e3b81_level0_col6\" class=\"col_heading level0 col6\" >MAPE</th>\n",
       "      <th id=\"T_e3b81_level0_col7\" class=\"col_heading level0 col7\" >TT (Sec)</th>\n",
       "    </tr>\n",
       "  </thead>\n",
       "  <tbody>\n",
       "    <tr>\n",
       "      <th id=\"T_e3b81_level0_row0\" class=\"row_heading level0 row0\" >ridge</th>\n",
       "      <td id=\"T_e3b81_row0_col0\" class=\"data row0 col0\" >Ridge Regression</td>\n",
       "      <td id=\"T_e3b81_row0_col1\" class=\"data row0 col1\" >78.5807</td>\n",
       "      <td id=\"T_e3b81_row0_col2\" class=\"data row0 col2\" >1014544.5729</td>\n",
       "      <td id=\"T_e3b81_row0_col3\" class=\"data row0 col3\" >851.7777</td>\n",
       "      <td id=\"T_e3b81_row0_col4\" class=\"data row0 col4\" >0.0127</td>\n",
       "      <td id=\"T_e3b81_row0_col5\" class=\"data row0 col5\" >0.8704</td>\n",
       "      <td id=\"T_e3b81_row0_col6\" class=\"data row0 col6\" >1.2425</td>\n",
       "      <td id=\"T_e3b81_row0_col7\" class=\"data row0 col7\" >0.6670</td>\n",
       "    </tr>\n",
       "    <tr>\n",
       "      <th id=\"T_e3b81_level0_row1\" class=\"row_heading level0 row1\" >lr</th>\n",
       "      <td id=\"T_e3b81_row1_col0\" class=\"data row1 col0\" >Linear Regression</td>\n",
       "      <td id=\"T_e3b81_row1_col1\" class=\"data row1 col1\" >78.5792</td>\n",
       "      <td id=\"T_e3b81_row1_col2\" class=\"data row1 col2\" >1014543.0353</td>\n",
       "      <td id=\"T_e3b81_row1_col3\" class=\"data row1 col3\" >851.7776</td>\n",
       "      <td id=\"T_e3b81_row1_col4\" class=\"data row1 col4\" >0.0126</td>\n",
       "      <td id=\"T_e3b81_row1_col5\" class=\"data row1 col5\" >0.8702</td>\n",
       "      <td id=\"T_e3b81_row1_col6\" class=\"data row1 col6\" >1.2424</td>\n",
       "      <td id=\"T_e3b81_row1_col7\" class=\"data row1 col7\" >2.9640</td>\n",
       "    </tr>\n",
       "    <tr>\n",
       "      <th id=\"T_e3b81_level0_row2\" class=\"row_heading level0 row2\" >lar</th>\n",
       "      <td id=\"T_e3b81_row2_col0\" class=\"data row2 col0\" >Least Angle Regression</td>\n",
       "      <td id=\"T_e3b81_row2_col1\" class=\"data row2 col1\" >78.5819</td>\n",
       "      <td id=\"T_e3b81_row2_col2\" class=\"data row2 col2\" >1014546.1854</td>\n",
       "      <td id=\"T_e3b81_row2_col3\" class=\"data row2 col3\" >851.7817</td>\n",
       "      <td id=\"T_e3b81_row2_col4\" class=\"data row2 col4\" >0.0126</td>\n",
       "      <td id=\"T_e3b81_row2_col5\" class=\"data row2 col5\" >0.8705</td>\n",
       "      <td id=\"T_e3b81_row2_col6\" class=\"data row2 col6\" >1.2427</td>\n",
       "      <td id=\"T_e3b81_row2_col7\" class=\"data row2 col7\" >0.6130</td>\n",
       "    </tr>\n",
       "    <tr>\n",
       "      <th id=\"T_e3b81_level0_row3\" class=\"row_heading level0 row3\" >lasso</th>\n",
       "      <td id=\"T_e3b81_row3_col0\" class=\"data row3 col0\" >Lasso Regression</td>\n",
       "      <td id=\"T_e3b81_row3_col1\" class=\"data row3 col1\" >78.4795</td>\n",
       "      <td id=\"T_e3b81_row3_col2\" class=\"data row3 col2\" >1014585.6316</td>\n",
       "      <td id=\"T_e3b81_row3_col3\" class=\"data row3 col3\" >851.8192</td>\n",
       "      <td id=\"T_e3b81_row3_col4\" class=\"data row3 col4\" >0.0125</td>\n",
       "      <td id=\"T_e3b81_row3_col5\" class=\"data row3 col5\" >0.8672</td>\n",
       "      <td id=\"T_e3b81_row3_col6\" class=\"data row3 col6\" >1.2317</td>\n",
       "      <td id=\"T_e3b81_row3_col7\" class=\"data row3 col7\" >0.7480</td>\n",
       "    </tr>\n",
       "    <tr>\n",
       "      <th id=\"T_e3b81_level0_row4\" class=\"row_heading level0 row4\" >llar</th>\n",
       "      <td id=\"T_e3b81_row4_col0\" class=\"data row4 col0\" >Lasso Least Angle Regression</td>\n",
       "      <td id=\"T_e3b81_row4_col1\" class=\"data row4 col1\" >78.4819</td>\n",
       "      <td id=\"T_e3b81_row4_col2\" class=\"data row4 col2\" >1014586.5013</td>\n",
       "      <td id=\"T_e3b81_row4_col3\" class=\"data row4 col3\" >851.8208</td>\n",
       "      <td id=\"T_e3b81_row4_col4\" class=\"data row4 col4\" >0.0125</td>\n",
       "      <td id=\"T_e3b81_row4_col5\" class=\"data row4 col5\" >0.8673</td>\n",
       "      <td id=\"T_e3b81_row4_col6\" class=\"data row4 col6\" >1.2319</td>\n",
       "      <td id=\"T_e3b81_row4_col7\" class=\"data row4 col7\" >0.6420</td>\n",
       "    </tr>\n",
       "    <tr>\n",
       "      <th id=\"T_e3b81_level0_row5\" class=\"row_heading level0 row5\" >en</th>\n",
       "      <td id=\"T_e3b81_row5_col0\" class=\"data row5 col0\" >Elastic Net</td>\n",
       "      <td id=\"T_e3b81_row5_col1\" class=\"data row5 col1\" >78.5614</td>\n",
       "      <td id=\"T_e3b81_row5_col2\" class=\"data row5 col2\" >1014591.6880</td>\n",
       "      <td id=\"T_e3b81_row5_col3\" class=\"data row5 col3\" >851.8546</td>\n",
       "      <td id=\"T_e3b81_row5_col4\" class=\"data row5 col4\" >0.0122</td>\n",
       "      <td id=\"T_e3b81_row5_col5\" class=\"data row5 col5\" >0.8703</td>\n",
       "      <td id=\"T_e3b81_row5_col6\" class=\"data row5 col6\" >1.2497</td>\n",
       "      <td id=\"T_e3b81_row5_col7\" class=\"data row5 col7\" >0.6260</td>\n",
       "    </tr>\n",
       "    <tr>\n",
       "      <th id=\"T_e3b81_level0_row6\" class=\"row_heading level0 row6\" >br</th>\n",
       "      <td id=\"T_e3b81_row6_col0\" class=\"data row6 col0\" >Bayesian Ridge</td>\n",
       "      <td id=\"T_e3b81_row6_col1\" class=\"data row6 col1\" >81.0545</td>\n",
       "      <td id=\"T_e3b81_row6_col2\" class=\"data row6 col2\" >1015458.3575</td>\n",
       "      <td id=\"T_e3b81_row6_col3\" class=\"data row6 col3\" >852.7037</td>\n",
       "      <td id=\"T_e3b81_row6_col4\" class=\"data row6 col4\" >0.0080</td>\n",
       "      <td id=\"T_e3b81_row6_col5\" class=\"data row6 col5\" >0.9329</td>\n",
       "      <td id=\"T_e3b81_row6_col6\" class=\"data row6 col6\" >1.4146</td>\n",
       "      <td id=\"T_e3b81_row6_col7\" class=\"data row6 col7\" >0.6360</td>\n",
       "    </tr>\n",
       "    <tr>\n",
       "      <th id=\"T_e3b81_level0_row7\" class=\"row_heading level0 row7\" >huber</th>\n",
       "      <td id=\"T_e3b81_row7_col0\" class=\"data row7 col0\" >Huber Regressor</td>\n",
       "      <td id=\"T_e3b81_row7_col1\" class=\"data row7 col1\" >61.0905</td>\n",
       "      <td id=\"T_e3b81_row7_col2\" class=\"data row7 col2\" >1017065.2568</td>\n",
       "      <td id=\"T_e3b81_row7_col3\" class=\"data row7 col3\" >854.0067</td>\n",
       "      <td id=\"T_e3b81_row7_col4\" class=\"data row7 col4\" >0.0031</td>\n",
       "      <td id=\"T_e3b81_row7_col5\" class=\"data row7 col5\" >0.6644</td>\n",
       "      <td id=\"T_e3b81_row7_col6\" class=\"data row7 col6\" >0.5265</td>\n",
       "      <td id=\"T_e3b81_row7_col7\" class=\"data row7 col7\" >0.7880</td>\n",
       "    </tr>\n",
       "    <tr>\n",
       "      <th id=\"T_e3b81_level0_row8\" class=\"row_heading level0 row8\" >dummy</th>\n",
       "      <td id=\"T_e3b81_row8_col0\" class=\"data row8 col0\" >Dummy Regressor</td>\n",
       "      <td id=\"T_e3b81_row8_col1\" class=\"data row8 col1\" >79.7300</td>\n",
       "      <td id=\"T_e3b81_row8_col2\" class=\"data row8 col2\" >1017034.7274</td>\n",
       "      <td id=\"T_e3b81_row8_col3\" class=\"data row8 col3\" >854.4862</td>\n",
       "      <td id=\"T_e3b81_row8_col4\" class=\"data row8 col4\" >-0.0004</td>\n",
       "      <td id=\"T_e3b81_row8_col5\" class=\"data row8 col5\" >0.9819</td>\n",
       "      <td id=\"T_e3b81_row8_col6\" class=\"data row8 col6\" >1.5322</td>\n",
       "      <td id=\"T_e3b81_row8_col7\" class=\"data row8 col7\" >0.8020</td>\n",
       "    </tr>\n",
       "    <tr>\n",
       "      <th id=\"T_e3b81_level0_row9\" class=\"row_heading level0 row9\" >omp</th>\n",
       "      <td id=\"T_e3b81_row9_col0\" class=\"data row9 col0\" >Orthogonal Matching Pursuit</td>\n",
       "      <td id=\"T_e3b81_row9_col1\" class=\"data row9 col1\" >80.2042</td>\n",
       "      <td id=\"T_e3b81_row9_col2\" class=\"data row9 col2\" >1017082.5384</td>\n",
       "      <td id=\"T_e3b81_row9_col3\" class=\"data row9 col3\" >854.5460</td>\n",
       "      <td id=\"T_e3b81_row9_col4\" class=\"data row9 col4\" >-0.0009</td>\n",
       "      <td id=\"T_e3b81_row9_col5\" class=\"data row9 col5\" >0.9876</td>\n",
       "      <td id=\"T_e3b81_row9_col6\" class=\"data row9 col6\" >1.5475</td>\n",
       "      <td id=\"T_e3b81_row9_col7\" class=\"data row9 col7\" >0.6750</td>\n",
       "    </tr>\n",
       "    <tr>\n",
       "      <th id=\"T_e3b81_level0_row10\" class=\"row_heading level0 row10\" >lightgbm</th>\n",
       "      <td id=\"T_e3b81_row10_col0\" class=\"data row10 col0\" >Light Gradient Boosting Machine</td>\n",
       "      <td id=\"T_e3b81_row10_col1\" class=\"data row10 col1\" >88.2948</td>\n",
       "      <td id=\"T_e3b81_row10_col2\" class=\"data row10 col2\" >1046225.2666</td>\n",
       "      <td id=\"T_e3b81_row10_col3\" class=\"data row10 col3\" >877.5636</td>\n",
       "      <td id=\"T_e3b81_row10_col4\" class=\"data row10 col4\" >-0.1107</td>\n",
       "      <td id=\"T_e3b81_row10_col5\" class=\"data row10 col5\" >0.9023</td>\n",
       "      <td id=\"T_e3b81_row10_col6\" class=\"data row10 col6\" >1.5805</td>\n",
       "      <td id=\"T_e3b81_row10_col7\" class=\"data row10 col7\" >0.8750</td>\n",
       "    </tr>\n",
       "    <tr>\n",
       "      <th id=\"T_e3b81_level0_row11\" class=\"row_heading level0 row11\" >et</th>\n",
       "      <td id=\"T_e3b81_row11_col0\" class=\"data row11 col0\" >Extra Trees Regressor</td>\n",
       "      <td id=\"T_e3b81_row11_col1\" class=\"data row11 col1\" >86.2308</td>\n",
       "      <td id=\"T_e3b81_row11_col2\" class=\"data row11 col2\" >1206420.7495</td>\n",
       "      <td id=\"T_e3b81_row11_col3\" class=\"data row11 col3\" >950.1884</td>\n",
       "      <td id=\"T_e3b81_row11_col4\" class=\"data row11 col4\" >-0.3949</td>\n",
       "      <td id=\"T_e3b81_row11_col5\" class=\"data row11 col5\" >0.8041</td>\n",
       "      <td id=\"T_e3b81_row11_col6\" class=\"data row11 col6\" >1.6413</td>\n",
       "      <td id=\"T_e3b81_row11_col7\" class=\"data row11 col7\" >2.0920</td>\n",
       "    </tr>\n",
       "    <tr>\n",
       "      <th id=\"T_e3b81_level0_row12\" class=\"row_heading level0 row12\" >gbr</th>\n",
       "      <td id=\"T_e3b81_row12_col0\" class=\"data row12 col0\" >Gradient Boosting Regressor</td>\n",
       "      <td id=\"T_e3b81_row12_col1\" class=\"data row12 col1\" >84.7017</td>\n",
       "      <td id=\"T_e3b81_row12_col2\" class=\"data row12 col2\" >1165570.4263</td>\n",
       "      <td id=\"T_e3b81_row12_col3\" class=\"data row12 col3\" >942.5834</td>\n",
       "      <td id=\"T_e3b81_row12_col4\" class=\"data row12 col4\" >-0.3981</td>\n",
       "      <td id=\"T_e3b81_row12_col5\" class=\"data row12 col5\" >0.8765</td>\n",
       "      <td id=\"T_e3b81_row12_col6\" class=\"data row12 col6\" >1.8148</td>\n",
       "      <td id=\"T_e3b81_row12_col7\" class=\"data row12 col7\" >1.1840</td>\n",
       "    </tr>\n",
       "    <tr>\n",
       "      <th id=\"T_e3b81_level0_row13\" class=\"row_heading level0 row13\" >knn</th>\n",
       "      <td id=\"T_e3b81_row13_col0\" class=\"data row13 col0\" >K Neighbors Regressor</td>\n",
       "      <td id=\"T_e3b81_row13_col1\" class=\"data row13 col1\" >81.0485</td>\n",
       "      <td id=\"T_e3b81_row13_col2\" class=\"data row13 col2\" >1099500.1550</td>\n",
       "      <td id=\"T_e3b81_row13_col3\" class=\"data row13 col3\" >923.3450</td>\n",
       "      <td id=\"T_e3b81_row13_col4\" class=\"data row13 col4\" >-0.4055</td>\n",
       "      <td id=\"T_e3b81_row13_col5\" class=\"data row13 col5\" >0.7796</td>\n",
       "      <td id=\"T_e3b81_row13_col6\" class=\"data row13 col6\" >1.5578</td>\n",
       "      <td id=\"T_e3b81_row13_col7\" class=\"data row13 col7\" >0.7360</td>\n",
       "    </tr>\n",
       "    <tr>\n",
       "      <th id=\"T_e3b81_level0_row14\" class=\"row_heading level0 row14\" >xgboost</th>\n",
       "      <td id=\"T_e3b81_row14_col0\" class=\"data row14 col0\" >Extreme Gradient Boosting</td>\n",
       "      <td id=\"T_e3b81_row14_col1\" class=\"data row14 col1\" >90.8922</td>\n",
       "      <td id=\"T_e3b81_row14_col2\" class=\"data row14 col2\" >1261209.7510</td>\n",
       "      <td id=\"T_e3b81_row14_col3\" class=\"data row14 col3\" >971.4388</td>\n",
       "      <td id=\"T_e3b81_row14_col4\" class=\"data row14 col4\" >-0.4194</td>\n",
       "      <td id=\"T_e3b81_row14_col5\" class=\"data row14 col5\" >0.8994</td>\n",
       "      <td id=\"T_e3b81_row14_col6\" class=\"data row14 col6\" >1.6173</td>\n",
       "      <td id=\"T_e3b81_row14_col7\" class=\"data row14 col7\" >1.3220</td>\n",
       "    </tr>\n",
       "    <tr>\n",
       "      <th id=\"T_e3b81_level0_row15\" class=\"row_heading level0 row15\" >dt</th>\n",
       "      <td id=\"T_e3b81_row15_col0\" class=\"data row15 col0\" >Decision Tree Regressor</td>\n",
       "      <td id=\"T_e3b81_row15_col1\" class=\"data row15 col1\" >85.8198</td>\n",
       "      <td id=\"T_e3b81_row15_col2\" class=\"data row15 col2\" >1291416.7810</td>\n",
       "      <td id=\"T_e3b81_row15_col3\" class=\"data row15 col3\" >983.2425</td>\n",
       "      <td id=\"T_e3b81_row15_col4\" class=\"data row15 col4\" >-0.5232</td>\n",
       "      <td id=\"T_e3b81_row15_col5\" class=\"data row15 col5\" >0.8216</td>\n",
       "      <td id=\"T_e3b81_row15_col6\" class=\"data row15 col6\" >1.3105</td>\n",
       "      <td id=\"T_e3b81_row15_col7\" class=\"data row15 col7\" >0.8250</td>\n",
       "    </tr>\n",
       "    <tr>\n",
       "      <th id=\"T_e3b81_level0_row16\" class=\"row_heading level0 row16\" >par</th>\n",
       "      <td id=\"T_e3b81_row16_col0\" class=\"data row16 col0\" >Passive Aggressive Regressor</td>\n",
       "      <td id=\"T_e3b81_row16_col1\" class=\"data row16 col1\" >144.7046</td>\n",
       "      <td id=\"T_e3b81_row16_col2\" class=\"data row16 col2\" >1092290.0013</td>\n",
       "      <td id=\"T_e3b81_row16_col3\" class=\"data row16 col3\" >908.1326</td>\n",
       "      <td id=\"T_e3b81_row16_col4\" class=\"data row16 col4\" >-0.5391</td>\n",
       "      <td id=\"T_e3b81_row16_col5\" class=\"data row16 col5\" >1.2707</td>\n",
       "      <td id=\"T_e3b81_row16_col6\" class=\"data row16 col6\" >2.8225</td>\n",
       "      <td id=\"T_e3b81_row16_col7\" class=\"data row16 col7\" >0.6480</td>\n",
       "    </tr>\n",
       "    <tr>\n",
       "      <th id=\"T_e3b81_level0_row17\" class=\"row_heading level0 row17\" >rf</th>\n",
       "      <td id=\"T_e3b81_row17_col0\" class=\"data row17 col0\" >Random Forest Regressor</td>\n",
       "      <td id=\"T_e3b81_row17_col1\" class=\"data row17 col1\" >89.3603</td>\n",
       "      <td id=\"T_e3b81_row17_col2\" class=\"data row17 col2\" >1179515.1699</td>\n",
       "      <td id=\"T_e3b81_row17_col3\" class=\"data row17 col3\" >960.0644</td>\n",
       "      <td id=\"T_e3b81_row17_col4\" class=\"data row17 col4\" >-0.6296</td>\n",
       "      <td id=\"T_e3b81_row17_col5\" class=\"data row17 col5\" >0.8127</td>\n",
       "      <td id=\"T_e3b81_row17_col6\" class=\"data row17 col6\" >1.9737</td>\n",
       "      <td id=\"T_e3b81_row17_col7\" class=\"data row17 col7\" >2.9450</td>\n",
       "    </tr>\n",
       "    <tr>\n",
       "      <th id=\"T_e3b81_level0_row18\" class=\"row_heading level0 row18\" >ada</th>\n",
       "      <td id=\"T_e3b81_row18_col0\" class=\"data row18 col0\" >AdaBoost Regressor</td>\n",
       "      <td id=\"T_e3b81_row18_col1\" class=\"data row18 col1\" >89.4916</td>\n",
       "      <td id=\"T_e3b81_row18_col2\" class=\"data row18 col2\" >1350519.1288</td>\n",
       "      <td id=\"T_e3b81_row18_col3\" class=\"data row18 col3\" >1012.3645</td>\n",
       "      <td id=\"T_e3b81_row18_col4\" class=\"data row18 col4\" >-1.1323</td>\n",
       "      <td id=\"T_e3b81_row18_col5\" class=\"data row18 col5\" >0.9124</td>\n",
       "      <td id=\"T_e3b81_row18_col6\" class=\"data row18 col6\" >2.3548</td>\n",
       "      <td id=\"T_e3b81_row18_col7\" class=\"data row18 col7\" >0.9260</td>\n",
       "    </tr>\n",
       "  </tbody>\n",
       "</table>\n"
      ],
      "text/plain": [
       "<pandas.io.formats.style.Styler at 0x29ce54bbeb0>"
      ]
     },
     "metadata": {},
     "output_type": "display_data"
    },
    {
     "data": {
      "text/html": [],
      "text/plain": [
       "<IPython.core.display.HTML object>"
      ]
     },
     "metadata": {},
     "output_type": "display_data"
    }
   ],
   "source": [
    "#Evaluamos modelos\n",
    "best = compare_models()"
   ]
  },
  {
   "cell_type": "code",
   "execution_count": 9,
   "metadata": {},
   "outputs": [
    {
     "data": {
      "text/html": [],
      "text/plain": [
       "<IPython.core.display.HTML object>"
      ]
     },
     "metadata": {},
     "output_type": "display_data"
    },
    {
     "data": {
      "text/html": [
       "<style type=\"text/css\">\n",
       "#T_34d55_row10_col0, #T_34d55_row10_col1, #T_34d55_row10_col2, #T_34d55_row10_col3, #T_34d55_row10_col4, #T_34d55_row10_col5 {\n",
       "  background: yellow;\n",
       "}\n",
       "</style>\n",
       "<table id=\"T_34d55\">\n",
       "  <thead>\n",
       "    <tr>\n",
       "      <th class=\"blank level0\" >&nbsp;</th>\n",
       "      <th id=\"T_34d55_level0_col0\" class=\"col_heading level0 col0\" >MAE</th>\n",
       "      <th id=\"T_34d55_level0_col1\" class=\"col_heading level0 col1\" >MSE</th>\n",
       "      <th id=\"T_34d55_level0_col2\" class=\"col_heading level0 col2\" >RMSE</th>\n",
       "      <th id=\"T_34d55_level0_col3\" class=\"col_heading level0 col3\" >R2</th>\n",
       "      <th id=\"T_34d55_level0_col4\" class=\"col_heading level0 col4\" >RMSLE</th>\n",
       "      <th id=\"T_34d55_level0_col5\" class=\"col_heading level0 col5\" >MAPE</th>\n",
       "    </tr>\n",
       "    <tr>\n",
       "      <th class=\"index_name level0\" >Fold</th>\n",
       "      <th class=\"blank col0\" >&nbsp;</th>\n",
       "      <th class=\"blank col1\" >&nbsp;</th>\n",
       "      <th class=\"blank col2\" >&nbsp;</th>\n",
       "      <th class=\"blank col3\" >&nbsp;</th>\n",
       "      <th class=\"blank col4\" >&nbsp;</th>\n",
       "      <th class=\"blank col5\" >&nbsp;</th>\n",
       "    </tr>\n",
       "  </thead>\n",
       "  <tbody>\n",
       "    <tr>\n",
       "      <th id=\"T_34d55_level0_row0\" class=\"row_heading level0 row0\" >0</th>\n",
       "      <td id=\"T_34d55_row0_col0\" class=\"data row0 col0\" >62.4201</td>\n",
       "      <td id=\"T_34d55_row0_col1\" class=\"data row0 col1\" >114893.0481</td>\n",
       "      <td id=\"T_34d55_row0_col2\" class=\"data row0 col2\" >338.9588</td>\n",
       "      <td id=\"T_34d55_row0_col3\" class=\"data row0 col3\" >0.0125</td>\n",
       "      <td id=\"T_34d55_row0_col4\" class=\"data row0 col4\" >0.8536</td>\n",
       "      <td id=\"T_34d55_row0_col5\" class=\"data row0 col5\" >1.2253</td>\n",
       "    </tr>\n",
       "    <tr>\n",
       "      <th id=\"T_34d55_level0_row1\" class=\"row_heading level0 row1\" >1</th>\n",
       "      <td id=\"T_34d55_row1_col0\" class=\"data row1 col0\" >64.1125</td>\n",
       "      <td id=\"T_34d55_row1_col1\" class=\"data row1 col1\" >67470.9046</td>\n",
       "      <td id=\"T_34d55_row1_col2\" class=\"data row1 col2\" >259.7516</td>\n",
       "      <td id=\"T_34d55_row1_col3\" class=\"data row1 col3\" >0.0364</td>\n",
       "      <td id=\"T_34d55_row1_col4\" class=\"data row1 col4\" >0.8755</td>\n",
       "      <td id=\"T_34d55_row1_col5\" class=\"data row1 col5\" >1.3144</td>\n",
       "    </tr>\n",
       "    <tr>\n",
       "      <th id=\"T_34d55_level0_row2\" class=\"row_heading level0 row2\" >2</th>\n",
       "      <td id=\"T_34d55_row2_col0\" class=\"data row2 col0\" >83.5728</td>\n",
       "      <td id=\"T_34d55_row2_col1\" class=\"data row2 col1\" >645406.4665</td>\n",
       "      <td id=\"T_34d55_row2_col2\" class=\"data row2 col2\" >803.3719</td>\n",
       "      <td id=\"T_34d55_row2_col3\" class=\"data row2 col3\" >0.0037</td>\n",
       "      <td id=\"T_34d55_row2_col4\" class=\"data row2 col4\" >0.8778</td>\n",
       "      <td id=\"T_34d55_row2_col5\" class=\"data row2 col5\" >1.2161</td>\n",
       "    </tr>\n",
       "    <tr>\n",
       "      <th id=\"T_34d55_level0_row3\" class=\"row_heading level0 row3\" >3</th>\n",
       "      <td id=\"T_34d55_row3_col0\" class=\"data row3 col0\" >89.6362</td>\n",
       "      <td id=\"T_34d55_row3_col1\" class=\"data row3 col1\" >1012349.8918</td>\n",
       "      <td id=\"T_34d55_row3_col2\" class=\"data row3 col2\" >1006.1560</td>\n",
       "      <td id=\"T_34d55_row3_col3\" class=\"data row3 col3\" >0.0058</td>\n",
       "      <td id=\"T_34d55_row3_col4\" class=\"data row3 col4\" >0.8734</td>\n",
       "      <td id=\"T_34d55_row3_col5\" class=\"data row3 col5\" >1.2121</td>\n",
       "    </tr>\n",
       "    <tr>\n",
       "      <th id=\"T_34d55_level0_row4\" class=\"row_heading level0 row4\" >4</th>\n",
       "      <td id=\"T_34d55_row4_col0\" class=\"data row4 col0\" >70.5932</td>\n",
       "      <td id=\"T_34d55_row4_col1\" class=\"data row4 col1\" >213879.1090</td>\n",
       "      <td id=\"T_34d55_row4_col2\" class=\"data row4 col2\" >462.4707</td>\n",
       "      <td id=\"T_34d55_row4_col3\" class=\"data row4 col3\" >0.0409</td>\n",
       "      <td id=\"T_34d55_row4_col4\" class=\"data row4 col4\" >0.8759</td>\n",
       "      <td id=\"T_34d55_row4_col5\" class=\"data row4 col5\" >1.3122</td>\n",
       "    </tr>\n",
       "    <tr>\n",
       "      <th id=\"T_34d55_level0_row5\" class=\"row_heading level0 row5\" >5</th>\n",
       "      <td id=\"T_34d55_row5_col0\" class=\"data row5 col0\" >70.0700</td>\n",
       "      <td id=\"T_34d55_row5_col1\" class=\"data row5 col1\" >791023.5310</td>\n",
       "      <td id=\"T_34d55_row5_col2\" class=\"data row5 col2\" >889.3950</td>\n",
       "      <td id=\"T_34d55_row5_col3\" class=\"data row5 col3\" >0.0046</td>\n",
       "      <td id=\"T_34d55_row5_col4\" class=\"data row5 col4\" >0.8465</td>\n",
       "      <td id=\"T_34d55_row5_col5\" class=\"data row5 col5\" >1.2335</td>\n",
       "    </tr>\n",
       "    <tr>\n",
       "      <th id=\"T_34d55_level0_row6\" class=\"row_heading level0 row6\" >6</th>\n",
       "      <td id=\"T_34d55_row6_col0\" class=\"data row6 col0\" >59.7728</td>\n",
       "      <td id=\"T_34d55_row6_col1\" class=\"data row6 col1\" >87285.4045</td>\n",
       "      <td id=\"T_34d55_row6_col2\" class=\"data row6 col2\" >295.4410</td>\n",
       "      <td id=\"T_34d55_row6_col3\" class=\"data row6 col3\" >0.0232</td>\n",
       "      <td id=\"T_34d55_row6_col4\" class=\"data row6 col4\" >0.8641</td>\n",
       "      <td id=\"T_34d55_row6_col5\" class=\"data row6 col5\" >1.2401</td>\n",
       "    </tr>\n",
       "    <tr>\n",
       "      <th id=\"T_34d55_level0_row7\" class=\"row_heading level0 row7\" >7</th>\n",
       "      <td id=\"T_34d55_row7_col0\" class=\"data row7 col0\" >101.6104</td>\n",
       "      <td id=\"T_34d55_row7_col1\" class=\"data row7 col1\" >2700188.3991</td>\n",
       "      <td id=\"T_34d55_row7_col2\" class=\"data row7 col2\" >1643.2250</td>\n",
       "      <td id=\"T_34d55_row7_col3\" class=\"data row7 col3\" >-0.0017</td>\n",
       "      <td id=\"T_34d55_row7_col4\" class=\"data row7 col4\" >0.9620</td>\n",
       "      <td id=\"T_34d55_row7_col5\" class=\"data row7 col5\" >1.4927</td>\n",
       "    </tr>\n",
       "    <tr>\n",
       "      <th id=\"T_34d55_level0_row8\" class=\"row_heading level0 row8\" >8</th>\n",
       "      <td id=\"T_34d55_row8_col0\" class=\"data row8 col0\" >77.2565</td>\n",
       "      <td id=\"T_34d55_row8_col1\" class=\"data row8 col1\" >792298.2584</td>\n",
       "      <td id=\"T_34d55_row8_col2\" class=\"data row8 col2\" >890.1114</td>\n",
       "      <td id=\"T_34d55_row8_col3\" class=\"data row8 col3\" >0.0023</td>\n",
       "      <td id=\"T_34d55_row8_col4\" class=\"data row8 col4\" >0.8783</td>\n",
       "      <td id=\"T_34d55_row8_col5\" class=\"data row8 col5\" >1.2151</td>\n",
       "    </tr>\n",
       "    <tr>\n",
       "      <th id=\"T_34d55_level0_row9\" class=\"row_heading level0 row9\" >9</th>\n",
       "      <td id=\"T_34d55_row9_col0\" class=\"data row9 col0\" >106.7477</td>\n",
       "      <td id=\"T_34d55_row9_col1\" class=\"data row9 col1\" >3720635.3394</td>\n",
       "      <td id=\"T_34d55_row9_col2\" class=\"data row9 col2\" >1928.8948</td>\n",
       "      <td id=\"T_34d55_row9_col3\" class=\"data row9 col3\" >-0.0011</td>\n",
       "      <td id=\"T_34d55_row9_col4\" class=\"data row9 col4\" >0.7946</td>\n",
       "      <td id=\"T_34d55_row9_col5\" class=\"data row9 col5\" >0.9623</td>\n",
       "    </tr>\n",
       "    <tr>\n",
       "      <th id=\"T_34d55_level0_row10\" class=\"row_heading level0 row10\" >Mean</th>\n",
       "      <td id=\"T_34d55_row10_col0\" class=\"data row10 col0\" >78.5792</td>\n",
       "      <td id=\"T_34d55_row10_col1\" class=\"data row10 col1\" >1014543.0353</td>\n",
       "      <td id=\"T_34d55_row10_col2\" class=\"data row10 col2\" >851.7776</td>\n",
       "      <td id=\"T_34d55_row10_col3\" class=\"data row10 col3\" >0.0126</td>\n",
       "      <td id=\"T_34d55_row10_col4\" class=\"data row10 col4\" >0.8702</td>\n",
       "      <td id=\"T_34d55_row10_col5\" class=\"data row10 col5\" >1.2424</td>\n",
       "    </tr>\n",
       "    <tr>\n",
       "      <th id=\"T_34d55_level0_row11\" class=\"row_heading level0 row11\" >Std</th>\n",
       "      <td id=\"T_34d55_row11_col0\" class=\"data row11 col0\" >15.5984</td>\n",
       "      <td id=\"T_34d55_row11_col1\" class=\"data row11 col1\" >1166496.5209</td>\n",
       "      <td id=\"T_34d55_row11_col2\" class=\"data row11 col2\" >537.6039</td>\n",
       "      <td id=\"T_34d55_row11_col3\" class=\"data row11 col3\" >0.0147</td>\n",
       "      <td id=\"T_34d55_row11_col4\" class=\"data row11 col4\" >0.0390</td>\n",
       "      <td id=\"T_34d55_row11_col5\" class=\"data row11 col5\" >0.1241</td>\n",
       "    </tr>\n",
       "  </tbody>\n",
       "</table>\n"
      ],
      "text/plain": [
       "<pandas.io.formats.style.Styler at 0x29cf1c22da0>"
      ]
     },
     "metadata": {},
     "output_type": "display_data"
    },
    {
     "data": {
      "application/vnd.jupyter.widget-view+json": {
       "model_id": "c9856bf3ef604d2f912a86818b2c48fc",
       "version_major": 2,
       "version_minor": 0
      },
      "text/plain": [
       "Processing:   0%|          | 0/4 [00:00<?, ?it/s]"
      ]
     },
     "metadata": {},
     "output_type": "display_data"
    }
   ],
   "source": [
    "#Vemos que el que mejor nos viene es regresión lineal\n",
    "lr = create_model('lr') # lo creamos"
   ]
  },
  {
   "cell_type": "code",
   "execution_count": 10,
   "metadata": {},
   "outputs": [
    {
     "data": {
      "text/html": [],
      "text/plain": [
       "<IPython.core.display.HTML object>"
      ]
     },
     "metadata": {},
     "output_type": "display_data"
    },
    {
     "data": {
      "text/html": [
       "<style type=\"text/css\">\n",
       "#T_d8e97_row10_col0, #T_d8e97_row10_col1, #T_d8e97_row10_col2, #T_d8e97_row10_col3, #T_d8e97_row10_col4, #T_d8e97_row10_col5 {\n",
       "  background: yellow;\n",
       "}\n",
       "</style>\n",
       "<table id=\"T_d8e97\">\n",
       "  <thead>\n",
       "    <tr>\n",
       "      <th class=\"blank level0\" >&nbsp;</th>\n",
       "      <th id=\"T_d8e97_level0_col0\" class=\"col_heading level0 col0\" >MAE</th>\n",
       "      <th id=\"T_d8e97_level0_col1\" class=\"col_heading level0 col1\" >MSE</th>\n",
       "      <th id=\"T_d8e97_level0_col2\" class=\"col_heading level0 col2\" >RMSE</th>\n",
       "      <th id=\"T_d8e97_level0_col3\" class=\"col_heading level0 col3\" >R2</th>\n",
       "      <th id=\"T_d8e97_level0_col4\" class=\"col_heading level0 col4\" >RMSLE</th>\n",
       "      <th id=\"T_d8e97_level0_col5\" class=\"col_heading level0 col5\" >MAPE</th>\n",
       "    </tr>\n",
       "    <tr>\n",
       "      <th class=\"index_name level0\" >Fold</th>\n",
       "      <th class=\"blank col0\" >&nbsp;</th>\n",
       "      <th class=\"blank col1\" >&nbsp;</th>\n",
       "      <th class=\"blank col2\" >&nbsp;</th>\n",
       "      <th class=\"blank col3\" >&nbsp;</th>\n",
       "      <th class=\"blank col4\" >&nbsp;</th>\n",
       "      <th class=\"blank col5\" >&nbsp;</th>\n",
       "    </tr>\n",
       "  </thead>\n",
       "  <tbody>\n",
       "    <tr>\n",
       "      <th id=\"T_d8e97_level0_row0\" class=\"row_heading level0 row0\" >0</th>\n",
       "      <td id=\"T_d8e97_row0_col0\" class=\"data row0 col0\" >62.4201</td>\n",
       "      <td id=\"T_d8e97_row0_col1\" class=\"data row0 col1\" >114893.0481</td>\n",
       "      <td id=\"T_d8e97_row0_col2\" class=\"data row0 col2\" >338.9588</td>\n",
       "      <td id=\"T_d8e97_row0_col3\" class=\"data row0 col3\" >0.0125</td>\n",
       "      <td id=\"T_d8e97_row0_col4\" class=\"data row0 col4\" >0.8536</td>\n",
       "      <td id=\"T_d8e97_row0_col5\" class=\"data row0 col5\" >1.2253</td>\n",
       "    </tr>\n",
       "    <tr>\n",
       "      <th id=\"T_d8e97_level0_row1\" class=\"row_heading level0 row1\" >1</th>\n",
       "      <td id=\"T_d8e97_row1_col0\" class=\"data row1 col0\" >64.1125</td>\n",
       "      <td id=\"T_d8e97_row1_col1\" class=\"data row1 col1\" >67470.9046</td>\n",
       "      <td id=\"T_d8e97_row1_col2\" class=\"data row1 col2\" >259.7516</td>\n",
       "      <td id=\"T_d8e97_row1_col3\" class=\"data row1 col3\" >0.0364</td>\n",
       "      <td id=\"T_d8e97_row1_col4\" class=\"data row1 col4\" >0.8755</td>\n",
       "      <td id=\"T_d8e97_row1_col5\" class=\"data row1 col5\" >1.3144</td>\n",
       "    </tr>\n",
       "    <tr>\n",
       "      <th id=\"T_d8e97_level0_row2\" class=\"row_heading level0 row2\" >2</th>\n",
       "      <td id=\"T_d8e97_row2_col0\" class=\"data row2 col0\" >83.5728</td>\n",
       "      <td id=\"T_d8e97_row2_col1\" class=\"data row2 col1\" >645406.4665</td>\n",
       "      <td id=\"T_d8e97_row2_col2\" class=\"data row2 col2\" >803.3719</td>\n",
       "      <td id=\"T_d8e97_row2_col3\" class=\"data row2 col3\" >0.0037</td>\n",
       "      <td id=\"T_d8e97_row2_col4\" class=\"data row2 col4\" >0.8778</td>\n",
       "      <td id=\"T_d8e97_row2_col5\" class=\"data row2 col5\" >1.2161</td>\n",
       "    </tr>\n",
       "    <tr>\n",
       "      <th id=\"T_d8e97_level0_row3\" class=\"row_heading level0 row3\" >3</th>\n",
       "      <td id=\"T_d8e97_row3_col0\" class=\"data row3 col0\" >89.6362</td>\n",
       "      <td id=\"T_d8e97_row3_col1\" class=\"data row3 col1\" >1012349.8918</td>\n",
       "      <td id=\"T_d8e97_row3_col2\" class=\"data row3 col2\" >1006.1560</td>\n",
       "      <td id=\"T_d8e97_row3_col3\" class=\"data row3 col3\" >0.0058</td>\n",
       "      <td id=\"T_d8e97_row3_col4\" class=\"data row3 col4\" >0.8734</td>\n",
       "      <td id=\"T_d8e97_row3_col5\" class=\"data row3 col5\" >1.2121</td>\n",
       "    </tr>\n",
       "    <tr>\n",
       "      <th id=\"T_d8e97_level0_row4\" class=\"row_heading level0 row4\" >4</th>\n",
       "      <td id=\"T_d8e97_row4_col0\" class=\"data row4 col0\" >70.5932</td>\n",
       "      <td id=\"T_d8e97_row4_col1\" class=\"data row4 col1\" >213879.1090</td>\n",
       "      <td id=\"T_d8e97_row4_col2\" class=\"data row4 col2\" >462.4707</td>\n",
       "      <td id=\"T_d8e97_row4_col3\" class=\"data row4 col3\" >0.0409</td>\n",
       "      <td id=\"T_d8e97_row4_col4\" class=\"data row4 col4\" >0.8759</td>\n",
       "      <td id=\"T_d8e97_row4_col5\" class=\"data row4 col5\" >1.3122</td>\n",
       "    </tr>\n",
       "    <tr>\n",
       "      <th id=\"T_d8e97_level0_row5\" class=\"row_heading level0 row5\" >5</th>\n",
       "      <td id=\"T_d8e97_row5_col0\" class=\"data row5 col0\" >70.0700</td>\n",
       "      <td id=\"T_d8e97_row5_col1\" class=\"data row5 col1\" >791023.5310</td>\n",
       "      <td id=\"T_d8e97_row5_col2\" class=\"data row5 col2\" >889.3950</td>\n",
       "      <td id=\"T_d8e97_row5_col3\" class=\"data row5 col3\" >0.0046</td>\n",
       "      <td id=\"T_d8e97_row5_col4\" class=\"data row5 col4\" >0.8465</td>\n",
       "      <td id=\"T_d8e97_row5_col5\" class=\"data row5 col5\" >1.2335</td>\n",
       "    </tr>\n",
       "    <tr>\n",
       "      <th id=\"T_d8e97_level0_row6\" class=\"row_heading level0 row6\" >6</th>\n",
       "      <td id=\"T_d8e97_row6_col0\" class=\"data row6 col0\" >59.7728</td>\n",
       "      <td id=\"T_d8e97_row6_col1\" class=\"data row6 col1\" >87285.4045</td>\n",
       "      <td id=\"T_d8e97_row6_col2\" class=\"data row6 col2\" >295.4410</td>\n",
       "      <td id=\"T_d8e97_row6_col3\" class=\"data row6 col3\" >0.0232</td>\n",
       "      <td id=\"T_d8e97_row6_col4\" class=\"data row6 col4\" >0.8641</td>\n",
       "      <td id=\"T_d8e97_row6_col5\" class=\"data row6 col5\" >1.2401</td>\n",
       "    </tr>\n",
       "    <tr>\n",
       "      <th id=\"T_d8e97_level0_row7\" class=\"row_heading level0 row7\" >7</th>\n",
       "      <td id=\"T_d8e97_row7_col0\" class=\"data row7 col0\" >101.6104</td>\n",
       "      <td id=\"T_d8e97_row7_col1\" class=\"data row7 col1\" >2700188.3991</td>\n",
       "      <td id=\"T_d8e97_row7_col2\" class=\"data row7 col2\" >1643.2250</td>\n",
       "      <td id=\"T_d8e97_row7_col3\" class=\"data row7 col3\" >-0.0017</td>\n",
       "      <td id=\"T_d8e97_row7_col4\" class=\"data row7 col4\" >0.9620</td>\n",
       "      <td id=\"T_d8e97_row7_col5\" class=\"data row7 col5\" >1.4927</td>\n",
       "    </tr>\n",
       "    <tr>\n",
       "      <th id=\"T_d8e97_level0_row8\" class=\"row_heading level0 row8\" >8</th>\n",
       "      <td id=\"T_d8e97_row8_col0\" class=\"data row8 col0\" >77.2565</td>\n",
       "      <td id=\"T_d8e97_row8_col1\" class=\"data row8 col1\" >792298.2584</td>\n",
       "      <td id=\"T_d8e97_row8_col2\" class=\"data row8 col2\" >890.1114</td>\n",
       "      <td id=\"T_d8e97_row8_col3\" class=\"data row8 col3\" >0.0023</td>\n",
       "      <td id=\"T_d8e97_row8_col4\" class=\"data row8 col4\" >0.8783</td>\n",
       "      <td id=\"T_d8e97_row8_col5\" class=\"data row8 col5\" >1.2151</td>\n",
       "    </tr>\n",
       "    <tr>\n",
       "      <th id=\"T_d8e97_level0_row9\" class=\"row_heading level0 row9\" >9</th>\n",
       "      <td id=\"T_d8e97_row9_col0\" class=\"data row9 col0\" >106.7477</td>\n",
       "      <td id=\"T_d8e97_row9_col1\" class=\"data row9 col1\" >3720635.3394</td>\n",
       "      <td id=\"T_d8e97_row9_col2\" class=\"data row9 col2\" >1928.8948</td>\n",
       "      <td id=\"T_d8e97_row9_col3\" class=\"data row9 col3\" >-0.0011</td>\n",
       "      <td id=\"T_d8e97_row9_col4\" class=\"data row9 col4\" >0.7946</td>\n",
       "      <td id=\"T_d8e97_row9_col5\" class=\"data row9 col5\" >0.9623</td>\n",
       "    </tr>\n",
       "    <tr>\n",
       "      <th id=\"T_d8e97_level0_row10\" class=\"row_heading level0 row10\" >Mean</th>\n",
       "      <td id=\"T_d8e97_row10_col0\" class=\"data row10 col0\" >78.5792</td>\n",
       "      <td id=\"T_d8e97_row10_col1\" class=\"data row10 col1\" >1014543.0353</td>\n",
       "      <td id=\"T_d8e97_row10_col2\" class=\"data row10 col2\" >851.7776</td>\n",
       "      <td id=\"T_d8e97_row10_col3\" class=\"data row10 col3\" >0.0126</td>\n",
       "      <td id=\"T_d8e97_row10_col4\" class=\"data row10 col4\" >0.8702</td>\n",
       "      <td id=\"T_d8e97_row10_col5\" class=\"data row10 col5\" >1.2424</td>\n",
       "    </tr>\n",
       "    <tr>\n",
       "      <th id=\"T_d8e97_level0_row11\" class=\"row_heading level0 row11\" >Std</th>\n",
       "      <td id=\"T_d8e97_row11_col0\" class=\"data row11 col0\" >15.5984</td>\n",
       "      <td id=\"T_d8e97_row11_col1\" class=\"data row11 col1\" >1166496.5209</td>\n",
       "      <td id=\"T_d8e97_row11_col2\" class=\"data row11 col2\" >537.6039</td>\n",
       "      <td id=\"T_d8e97_row11_col3\" class=\"data row11 col3\" >0.0147</td>\n",
       "      <td id=\"T_d8e97_row11_col4\" class=\"data row11 col4\" >0.0390</td>\n",
       "      <td id=\"T_d8e97_row11_col5\" class=\"data row11 col5\" >0.1241</td>\n",
       "    </tr>\n",
       "  </tbody>\n",
       "</table>\n"
      ],
      "text/plain": [
       "<pandas.io.formats.style.Styler at 0x29ceecd0550>"
      ]
     },
     "metadata": {},
     "output_type": "display_data"
    },
    {
     "data": {
      "application/vnd.jupyter.widget-view+json": {
       "model_id": "8633c87b8b624a2b9a395e7721c3a9ab",
       "version_major": 2,
       "version_minor": 0
      },
      "text/plain": [
       "Processing:   0%|          | 0/7 [00:00<?, ?it/s]"
      ]
     },
     "metadata": {},
     "output_type": "display_data"
    },
    {
     "name": "stdout",
     "output_type": "stream",
     "text": [
      "Fitting 10 folds for each of 2 candidates, totalling 20 fits\n",
      "Original model was better than the tuned model, hence it will be returned. NOTE: The display metrics are for the tuned model (not the original one).\n"
     ]
    }
   ],
   "source": [
    "# lo tuneamos XD\n",
    "tuned_lr = tune_model(lr)"
   ]
  },
  {
   "cell_type": "code",
   "execution_count": 11,
   "metadata": {},
   "outputs": [
    {
     "data": {
      "application/vnd.jupyter.widget-view+json": {
       "model_id": "a9ef402173a24aba8795d99e281de66a",
       "version_major": 2,
       "version_minor": 0
      },
      "text/plain": [
       "interactive(children=(ToggleButtons(description='Plot Type:', icons=('',), options=(('Pipeline Plot', 'pipelin…"
      ]
     },
     "metadata": {},
     "output_type": "display_data"
    }
   ],
   "source": [
    "#Veamos como se comporta\n",
    "evaluate_model(tuned_lr)"
   ]
  },
  {
   "cell_type": "code",
   "execution_count": 12,
   "metadata": {},
   "outputs": [],
   "source": [
    "#finalizamos el modelo\n",
    "final_lr_best = finalize_model(tuned_lr)"
   ]
  },
  {
   "cell_type": "code",
   "execution_count": 13,
   "metadata": {},
   "outputs": [
    {
     "name": "stdout",
     "output_type": "stream",
     "text": [
      "Transformation Pipeline and Model Successfully Saved\n"
     ]
    },
    {
     "data": {
      "text/plain": [
       "(Pipeline(memory=FastMemory(location=C:\\Users\\fabia\\AppData\\Local\\Temp\\joblib),\n",
       "          steps=[('numerical_imputer',\n",
       "                  TransformerWrapper(include=['accommodates', 'maximum_nights',\n",
       "                                              'minimum_nights'],\n",
       "                                     transformer=SimpleImputer())),\n",
       "                 ('categorical_imputer',\n",
       "                  TransformerWrapper(include=['neighbourhood', 'property_type',\n",
       "                                              'room_type'],\n",
       "                                     transformer=SimpleImputer(strategy='most...\n",
       "                                                               handle_missing='return_nan',\n",
       "                                                               use_cat_names=True))),\n",
       "                 ('rest_encoding',\n",
       "                  TransformerWrapper(include=['neighbourhood', 'property_type'],\n",
       "                                     transformer=TargetEncoder(cols=['neighbourhood',\n",
       "                                                                     'property_type'],\n",
       "                                                               handle_missing='return_nan'))),\n",
       "                 ('remove_outliers',\n",
       "                  TransformerWrapper(transformer=RemoveOutliers(random_state=4574))),\n",
       "                 ('actual_estimator', LinearRegression(n_jobs=-1))]),\n",
       " 'ml_airbnb.pkl')"
      ]
     },
     "execution_count": 13,
     "metadata": {},
     "output_type": "execute_result"
    }
   ],
   "source": [
    "#guardamos el modelo \n",
    "save_model( final_lr_best, 'ml_airbnb')"
   ]
  },
  {
   "cell_type": "code",
   "execution_count": 14,
   "metadata": {},
   "outputs": [
    {
     "data": {
      "text/plain": [
       "array(['Besiktas', 'Beyoglu', 'Sisli', 'Sariyer', 'Fatih', 'Uskudar',\n",
       "       'Kadikoy', 'Kagithane', 'Basaksehir', 'Bagcilar', 'Maltepe',\n",
       "       'Esenyurt', 'Beykoz', 'Cekmekoy', 'Sancaktepe', 'Atasehir',\n",
       "       'Tuzla', 'Pendik', 'Bahcelievler', 'Kartal', 'Beylikduzu',\n",
       "       'Bakirkoy', 'Adalar', 'Gaziosmanpasa', 'Zeytinburnu',\n",
       "       'Kucukcekmece', 'Umraniye', 'Eyup', 'Gungoren', 'Avcilar', 'Sile',\n",
       "       'Arnavutkoy', 'Buyukcekmece', 'Bayrampasa', 'Catalca', 'Esenler',\n",
       "       'Silivri', 'Sultangazi', 'Sultanbeyli'], dtype=object)"
      ]
     },
     "execution_count": 14,
     "metadata": {},
     "output_type": "execute_result"
    }
   ],
   "source": [
    "df_modelo['neighbourhood'].unique()"
   ]
  },
  {
   "cell_type": "code",
   "execution_count": 15,
   "metadata": {},
   "outputs": [
    {
     "data": {
      "text/plain": [
       "array(['Entire rental unit', 'Private room in loft',\n",
       "       'Entire serviced apartment', 'Private room in home',\n",
       "       'Private room in rental unit', 'Entire home',\n",
       "       'Room in serviced apartment', 'Entire loft',\n",
       "       'Private room in villa', 'Private room in serviced apartment',\n",
       "       'Entire condo', 'Private room in townhouse', 'Shared room in home',\n",
       "       'Entire cabin', 'Camper/RV', 'Room in aparthotel',\n",
       "       'Shared room in rental unit', 'Room in boutique hotel',\n",
       "       'Private room in condo', 'Private room', 'Entire villa',\n",
       "       'Private room in bed and breakfast', 'Entire bed and breakfast',\n",
       "       'Entire townhouse', 'Entire chalet', 'Room in hotel',\n",
       "       'Entire cottage', 'Shared room in loft', 'Shared room in hotel',\n",
       "       'Tiny home', 'Private room in yurt', 'Room in hostel',\n",
       "       'Room in bed and breakfast', 'Shared room in condo',\n",
       "       'Private room in treehouse', 'Private room in hostel',\n",
       "       'Entire vacation home', 'Earthen home', 'Tent',\n",
       "       'Entire guest suite', 'Entire place', 'Entire hostel',\n",
       "       'Private room in hut', 'Private room in guesthouse',\n",
       "       'Private room in casa particular', 'Private room in nature lodge',\n",
       "       'Boat', 'Shared room in boutique hotel', 'Shared room in barn',\n",
       "       'Shared room in casa particular', 'Shared room in hostel',\n",
       "       'Farm stay', 'Private room in guest suite',\n",
       "       'Private room in tiny home', 'Island', 'Private room in castle',\n",
       "       'Shared room in villa', 'Yurt', 'Private room in farm stay',\n",
       "       'Private room in boat', 'Room in pension',\n",
       "       'Shared room in tiny home', 'Private room in cottage',\n",
       "       'Room in nature lodge', 'Entire guesthouse',\n",
       "       'Shared room in townhouse', 'Shared room in bed and breakfast',\n",
       "       'Casa particular', 'Castle', 'Shared room in guesthouse',\n",
       "       'Room in heritage hotel', 'Shared room in serviced apartment',\n",
       "       'Lighthouse', 'Shared room in earthen home',\n",
       "       'Private room in chalet', 'Shared room in pension', 'Treehouse',\n",
       "       'Shared room in guest suite', 'Entire bungalow',\n",
       "       'Private room in bungalow', 'Shared room in aparthotel',\n",
       "       'Private room in cave', 'Private room in vacation home',\n",
       "       'Private room in camper/rv', 'Private room in pension',\n",
       "       'Entire home/apt', 'Pension', 'Shared room', 'Tower',\n",
       "       'Private room in cabin', 'Houseboat', 'Ice dome',\n",
       "       'Private room in dome', 'Shared room in boat',\n",
       "       'Private room in earthen home', 'Shared room in vacation home',\n",
       "       'Shared room in camper/rv', 'Dome', 'Private room in resort',\n",
       "       'Shared room in nature lodge', 'Shared room in plane', 'Campsite',\n",
       "       'Shared room in minsu', 'Shared room in ryokan',\n",
       "       'Shared room in hut', 'Barn', 'Private room in ryokan',\n",
       "       'Private room in tent', 'Shipping container', 'Bus',\n",
       "       'Shared room in farm stay'], dtype=object)"
      ]
     },
     "execution_count": 15,
     "metadata": {},
     "output_type": "execute_result"
    }
   ],
   "source": [
    "df_modelo['property_type'].unique()"
   ]
  },
  {
   "cell_type": "code",
   "execution_count": 16,
   "metadata": {},
   "outputs": [
    {
     "data": {
      "text/plain": [
       "array([ 3,  2,  4,  5,  1,  6,  7,  8, 10, 12, 16, 11, 13, 14, 15,  9],\n",
       "      dtype=int64)"
      ]
     },
     "execution_count": 16,
     "metadata": {},
     "output_type": "execute_result"
    }
   ],
   "source": [
    "df_modelo['accommodates'].unique()"
   ]
  },
  {
   "cell_type": "code",
   "execution_count": 17,
   "metadata": {},
   "outputs": [
    {
     "data": {
      "text/plain": [
       "('Private room', 'Entire home/apt', 'Shared room')"
      ]
     },
     "execution_count": 17,
     "metadata": {},
     "output_type": "execute_result"
    }
   ],
   "source": [
    "'Private room', 'Entire home/apt', 'Shared room'"
   ]
  },
  {
   "cell_type": "code",
   "execution_count": 18,
   "metadata": {},
   "outputs": [
    {
     "data": {
      "text/plain": [
       "array(['Entire home/apt', 'Private room', 'Hotel room', 'Shared room'],\n",
       "      dtype=object)"
      ]
     },
     "execution_count": 18,
     "metadata": {},
     "output_type": "execute_result"
    }
   ],
   "source": [
    "df_modelo['room_type'].unique()"
   ]
  },
  {
   "cell_type": "code",
   "execution_count": 19,
   "metadata": {},
   "outputs": [
    {
     "data": {
      "text/plain": [
       "array([ 25,  10,  28,   2,   3,   1,   7,   5,   4,  14,   6,  30, 360,\n",
       "        15,  20,   8, 365, 210,  90, 999,  21, 300,  50, 699, 180,  60,\n",
       "        88,  29,  27,  13, 730, 120,  91, 720,  24, 150, 200,   9,  12,\n",
       "       250, 500, 183,  99, 100, 280,  45,  79,  96,  31, 185,  59,  62,\n",
       "       364,  42, 222,  40,  11, 240,  61,  55, 105,  95,  75,  58, 600,\n",
       "        16,  66,  85, 400, 110,  17,  35, 181, 260,  19,  92,  80,  18,\n",
       "        63,  70,  22,  56, 130, 350,  84, 186,  89,  26, 270, 170,  32,\n",
       "        74, 140,  87], dtype=int64)"
      ]
     },
     "execution_count": 19,
     "metadata": {},
     "output_type": "execute_result"
    }
   ],
   "source": [
    "df_modelo['minimum_nights'].unique()"
   ]
  }
 ],
 "metadata": {
  "kernelspec": {
   "display_name": "Python 3",
   "language": "python",
   "name": "python3"
  },
  "language_info": {
   "codemirror_mode": {
    "name": "ipython",
    "version": 3
   },
   "file_extension": ".py",
   "mimetype": "text/x-python",
   "name": "python",
   "nbconvert_exporter": "python",
   "pygments_lexer": "ipython3",
   "version": "3.10.11"
  },
  "orig_nbformat": 4
 },
 "nbformat": 4,
 "nbformat_minor": 2
}
"""prueba"""
