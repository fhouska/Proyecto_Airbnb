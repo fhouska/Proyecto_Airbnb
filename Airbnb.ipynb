{
 "cells": [
  {
   "attachments": {},
   "cell_type": "markdown",
   "metadata": {},
   "source": [
    "# Análisis Dataset de \"Inside Airbnb\" : ESTAMBUL\n",
    "\n",
    "\n",
    "<center><img src=\"https://www.miladoviajero.com/wp-content/uploads/Estambul-mapa.jpg\"></center>"
   ]
  },
  {
   "attachments": {},
   "cell_type": "markdown",
   "metadata": {},
   "source": [
    "# 1. Introducción\n",
    "\n",
    "\"Inside Airbnb\" es un sitio web que publica información sobre los alojamientos que se encuentran rentados bajo la plataforma de plataforma Airbnb. Esta web busca mostrar el impacto que tiene esta plataforma en el mercado de la vivienda para cada ciudad.\n",
    "Hemos decidido seleccionar la ciudad de Estambul. Se etrajeron 7 Dataset, 2 con información de las vivendas rentadas y sus propietarios, 2 con datos del vecindario , 2 con las reviews y uno con el calandario."
   ]
  },
  {
   "attachments": {},
   "cell_type": "markdown",
   "metadata": {},
   "source": [
    "1.- ¿La ubicación es importante para el huésped?\n",
    "2.- ¿El tipo de habitación es importante para el huésped?\n",
    "3.- ¿Un tiempo de respuesta se relaciona con más reservas?\n",
    "4.- ¿Al usuario parece importarle que el host tenga la calificación de superhost?"
   ]
  },
  {
   "attachments": {},
   "cell_type": "markdown",
   "metadata": {},
   "source": [
    "# 2. Librerias"
   ]
  },
  {
   "cell_type": "code",
   "execution_count": 49,
   "metadata": {},
   "outputs": [],
   "source": [
    "import numpy as np\n",
    "import pandas as pd\n",
    "\n",
    "\n",
    "#to make graphs\n",
    "import matplotlib.pyplot as plt\n",
    "import seaborn as sns\n",
    "\n",
    "#to make the plotly graphs\n",
    "import plotly.graph_objs as go\n",
    "import plotly.express as px\n",
    "\n",
    "#to make maps\n",
    "import geopandas as gpd\n",
    "\n",
    "# warnings\n",
    "import warnings\n",
    "warnings.filterwarnings(\"ignore\", category=FutureWarning)\n",
    "warnings.filterwarnings(\"ignore\", category=RuntimeWarning)"
   ]
  },
  {
   "cell_type": "code",
   "execution_count": 50,
   "metadata": {},
   "outputs": [],
   "source": [
    "# import numpy as np\n",
    "# import pandas as pd\n",
    "# import seaborn as sns\n",
    "# sns.set()\n",
    "# import matplotlib.pyplot as plt\n",
    "\n",
    "# import os\n",
    "# import json\n",
    "# import warnings\n",
    "# warnings.simplefilter(action='ignore', category=FutureWarning)\n",
    "\n",
    "# # mapas interactivos\n",
    "# import folium\n",
    "# from folium.plugins import FastMarkerCluster\n",
    "# import geopandas as gpd\n",
    "# from branca.colormap import LinearColormap\n",
    "\n",
    "# #to make the plotly graphs\n",
    "# import plotly.graph_objs as go\n",
    "# import chart_studio.plotly as py\n",
    "# from plotly.offline import iplot, init_notebook_mode\n",
    "# import cufflinks\n",
    "# cufflinks.go_offline(connected=True)\n",
    "# init_notebook_mode(connected=True)\n",
    "# import plotly.express as px\n",
    "\n",
    "# #text mining\n",
    "# from nltk.tokenize import word_tokenize\n",
    "# from nltk.corpus import stopwords\n",
    "# import re\n",
    "# from sklearn.feature_extraction.text import TfidfVectorizer, CountVectorizer\n",
    "# from wordcloud import WordCloud\n",
    "\n",
    "# warnings.filterwarnings(\"ignore\", category=FutureWarning)\n",
    "# warnings.filterwarnings(\"ignore\", category=RuntimeWarning)"
   ]
  },
  {
   "attachments": {},
   "cell_type": "markdown",
   "metadata": {},
   "source": [
    "# 3. Read Datasets"
   ]
  },
  {
   "attachments": {},
   "cell_type": "markdown",
   "metadata": {},
   "source": [
    "## 3.1 Detalles del listado de viviendas\n",
    "\n",
    "* El conjunto de datos contiene un total de 7 archivos. \n",
    "* El archivo de listados es un archivo de descripción general que las etiquetas internas de airbnb como \"bueno para visualizaciones\". \n",
    "* El identificador único en el conjunto de datos es la identificación de \"listings\". Esta es básicamente la identificación del anuncio. \n"
   ]
  },
  {
   "attachments": {},
   "cell_type": "markdown",
   "metadata": {},
   "source": [
    "### Lectura de los datasets"
   ]
  },
  {
   "cell_type": "code",
   "execution_count": 51,
   "metadata": {},
   "outputs": [],
   "source": [
    "listings = pd.read_csv(\"data/listings.csv\", index_col= \"id\")\n",
    "listings_details = pd.read_csv(\"data/listings_details.csv\", index_col= \"id\", low_memory=False)\n",
    "\n",
    "calendar = pd.read_csv('data/calendar.csv', parse_dates=['date'], index_col=['listing_id']).reset_index()\n",
    "reviews_details = pd.read_csv(\"data/reviews_details.csv\", parse_dates=['date']).reset_index()\n",
    "neighbourhoods = pd.read_csv(\"data/neighbourhoods.csv\").reset_index()"
   ]
  },
  {
   "attachments": {},
   "cell_type": "markdown",
   "metadata": {},
   "source": [
    "# 4. Limpieza de Datos"
   ]
  },
  {
   "attachments": {},
   "cell_type": "markdown",
   "metadata": {},
   "source": [
    "### Funciones de análisis"
   ]
  },
  {
   "cell_type": "code",
   "execution_count": 52,
   "metadata": {},
   "outputs": [],
   "source": [
    "def reporte (df):   \n",
    "    \n",
    "    \"\"\" Esta función recibe un df y nos imprime un reporte inicial del df\"\"\"\n",
    "    \n",
    "    print('El df esta formado por: ', df.shape[0], 'filas y', df.shape[1], 'columnas')\n",
    "    print('Cantidad de valores duplicados: ',df.duplicated().sum())\n",
    "    print('Cantidad de valores nulos: ', df.isnull().sum().sum())\n",
    "    # print('Primeras filas del df:')\n",
    "    # return df.head(3) # Imprimimos las primeras filas para ver las columnas y asi tener una primera vista de lo que hay en el df"
   ]
  },
  {
   "cell_type": "code",
   "execution_count": 53,
   "metadata": {},
   "outputs": [],
   "source": [
    "def percentage_null (df):\n",
    "    missing_data = pd.isnull(df).sum()\n",
    "    missing_data_percentage = missing_data/len(df)*100 #Calculamos el % del los datos faltantes en cada columna\n",
    "    nulos_totales= missing_data_percentage.sort_values(ascending = False) #Ordenamos de mayor a menor\n",
    "    nulos_totales = pd.DataFrame(nulos_totales,columns=[\"% nulos\"])\n",
    "    return nulos_totales.round(2)"
   ]
  },
  {
   "attachments": {},
   "cell_type": "markdown",
   "metadata": {},
   "source": [
    "## 4.1 Dataset: listings"
   ]
  },
  {
   "attachments": {},
   "cell_type": "markdown",
   "metadata": {},
   "source": [
    "#### Contenido de las columnas"
   ]
  },
  {
   "attachments": {},
   "cell_type": "markdown",
   "metadata": {},
   "source": [
    "* ***id***: Airbnb's unique identifier for the listing\n",
    "* ***name***: Name of the listing\n",
    "* ***host_id***: Airbnb's unique identifier for the host/user\n",
    "* ***host_name***: Name of the host. Usually just the first name(s).\n",
    "* ***neighbourhood_group***: The neighbourhood group as geocoded using the latitude and longitude against neighborhoods as defined by open or public digital shapefiles.\n",
    "* ***neighbourhood***: The neighbourhood as geocoded using the latitude and longitude against neighborhoods as defined by open or public digital shapefiles.\n",
    "* ***latitude***: Uses the World Geodetic System (WGS84) projection for latitude and longitude.\n",
    "* ***longitude***: Uses the World Geodetic System (WGS84) projection for latitude and longitude.\n",
    "* ***room_type***: All homes are grouped into the following three room types: 1. Entire home/apt 2. Private room 3. Shared room|Hotel]\n",
    "* ***price***: daily price in local currency. Note, $ sign may be used despite locale\n",
    "* ***minimum_nights***: minimum number of night stay for the listing (calendar rules may be different)\n",
    "* ***number_of_reviews***: The number of reviews the listing has\n",
    "* ***last_review***: The date of the last/newest review\n",
    "* ***calculated_host_listings_count***: The number of listings the host has in the current scrape, in the city/region geography.\n",
    "* ***availability_365***: avaliability_x. The availability of the listing x days in the future as determined by the calendar. Note a listing may be available because it has * been booked by a guest or blocked by the host.\n",
    "* ***number_of_reviews_ltm***: The number of reviews the listing has (in the last 12 months)\n",
    "* ***license***: The licence/permit/registration number\n"
   ]
  },
  {
   "attachments": {},
   "cell_type": "markdown",
   "metadata": {},
   "source": [
    "### Informe inicial"
   ]
  },
  {
   "cell_type": "code",
   "execution_count": 54,
   "metadata": {},
   "outputs": [
    {
     "name": "stdout",
     "output_type": "stream",
     "text": [
      "El df esta formado por:  41501 filas y 17 columnas\n",
      "Cantidad de valores duplicados:  8\n",
      "Cantidad de valores nulos:  118101\n"
     ]
    }
   ],
   "source": [
    "# Usamos esta función para tener en un solo informe que es lo que tenemos en nuestro df\n",
    "reporte(listings)"
   ]
  },
  {
   "attachments": {},
   "cell_type": "markdown",
   "metadata": {},
   "source": [
    "## 4.2 Dataset: listings_details"
   ]
  },
  {
   "attachments": {},
   "cell_type": "markdown",
   "metadata": {},
   "source": [
    "### Informe inicial"
   ]
  },
  {
   "cell_type": "code",
   "execution_count": 55,
   "metadata": {},
   "outputs": [
    {
     "name": "stdout",
     "output_type": "stream",
     "text": [
      "El df esta formado por:  41501 filas y 74 columnas\n"
     ]
    },
    {
     "name": "stdout",
     "output_type": "stream",
     "text": [
      "Cantidad de valores duplicados:  0\n",
      "Cantidad de valores nulos:  503873\n"
     ]
    }
   ],
   "source": [
    "reporte(listings_details)"
   ]
  },
  {
   "attachments": {},
   "cell_type": "markdown",
   "metadata": {},
   "source": [
    "Dado que el este data frame tiene 74 columnas seleccionamos las columnas que necesitamos para nuestro analisis.\n",
    "Cremaos la variable columnas con un total de 19 variables que hemos seleccionado para nuestro análisis.\n"
   ]
  },
  {
   "cell_type": "code",
   "execution_count": 56,
   "metadata": {},
   "outputs": [],
   "source": [
    "columns = [\"property_type\", \"accommodates\", \"first_review\", \"review_scores_value\", \"review_scores_cleanliness\", \"review_scores_location\", \"review_scores_accuracy\", \"review_scores_communication\", \"review_scores_checkin\", \"review_scores_rating\", \"maximum_nights\", \"listing_url\", \"host_is_superhost\", \"host_about\", \"host_response_time\", \"host_response_rate\", \"host_listings_count\",\"number_of_reviews_ltm\",\"reviews_per_month\"]"
   ]
  },
  {
   "attachments": {},
   "cell_type": "markdown",
   "metadata": {},
   "source": [
    "## 4.3 Merge : listings & listings_details"
   ]
  },
  {
   "cell_type": "code",
   "execution_count": 57,
   "metadata": {},
   "outputs": [],
   "source": [
    "df = pd.merge(listings, listings_details[columns], on='id', how='left')"
   ]
  },
  {
   "cell_type": "code",
   "execution_count": 58,
   "metadata": {},
   "outputs": [
    {
     "name": "stdout",
     "output_type": "stream",
     "text": [
      "El df esta formado por:  41501 filas y 36 columnas\n",
      "Cantidad de valores duplicados:  0\n",
      "Cantidad de valores nulos:  321467\n"
     ]
    }
   ],
   "source": [
    "reporte(df)"
   ]
  },
  {
   "attachments": {},
   "cell_type": "markdown",
   "metadata": {},
   "source": [
    "### Eliminación de columnas con valores nulos"
   ]
  },
  {
   "cell_type": "code",
   "execution_count": 59,
   "metadata": {},
   "outputs": [
    {
     "data": {
      "text/html": [
       "<div>\n",
       "<style scoped>\n",
       "    .dataframe tbody tr th:only-of-type {\n",
       "        vertical-align: middle;\n",
       "    }\n",
       "\n",
       "    .dataframe tbody tr th {\n",
       "        vertical-align: top;\n",
       "    }\n",
       "\n",
       "    .dataframe thead th {\n",
       "        text-align: right;\n",
       "    }\n",
       "</style>\n",
       "<table border=\"1\" class=\"dataframe\">\n",
       "  <thead>\n",
       "    <tr style=\"text-align: right;\">\n",
       "      <th></th>\n",
       "      <th>license</th>\n",
       "      <th>neighbourhood_group</th>\n",
       "      <th>host_about</th>\n",
       "      <th>review_scores_checkin</th>\n",
       "      <th>review_scores_location</th>\n",
       "      <th>review_scores_value</th>\n",
       "      <th>review_scores_communication</th>\n",
       "      <th>review_scores_accuracy</th>\n",
       "      <th>review_scores_cleanliness</th>\n",
       "      <th>reviews_per_month_y</th>\n",
       "      <th>review_scores_rating</th>\n",
       "      <th>last_review</th>\n",
       "      <th>reviews_per_month_x</th>\n",
       "      <th>first_review</th>\n",
       "      <th>host_response_rate</th>\n",
       "      <th>host_response_time</th>\n",
       "      <th>name</th>\n",
       "      <th>property_type</th>\n",
       "      <th>maximum_nights</th>\n",
       "      <th>number_of_reviews_ltm_y</th>\n",
       "      <th>host_listings_count</th>\n",
       "      <th>host_name</th>\n",
       "      <th>neighbourhood</th>\n",
       "      <th>latitude</th>\n",
       "      <th>host_is_superhost</th>\n",
       "      <th>listing_url</th>\n",
       "      <th>longitude</th>\n",
       "      <th>host_id</th>\n",
       "      <th>room_type</th>\n",
       "      <th>price</th>\n",
       "      <th>minimum_nights</th>\n",
       "      <th>number_of_reviews</th>\n",
       "      <th>calculated_host_listings_count</th>\n",
       "      <th>availability_365</th>\n",
       "      <th>number_of_reviews_ltm_x</th>\n",
       "      <th>accommodates</th>\n",
       "    </tr>\n",
       "  </thead>\n",
       "  <tbody>\n",
       "    <tr>\n",
       "      <th>% nulos</th>\n",
       "      <td>100.0</td>\n",
       "      <td>100.0</td>\n",
       "      <td>59.65</td>\n",
       "      <td>42.55</td>\n",
       "      <td>42.55</td>\n",
       "      <td>42.55</td>\n",
       "      <td>42.55</td>\n",
       "      <td>42.55</td>\n",
       "      <td>42.55</td>\n",
       "      <td>42.26</td>\n",
       "      <td>42.26</td>\n",
       "      <td>42.26</td>\n",
       "      <td>42.26</td>\n",
       "      <td>42.26</td>\n",
       "      <td>24.16</td>\n",
       "      <td>24.16</td>\n",
       "      <td>0.06</td>\n",
       "      <td>0.0</td>\n",
       "      <td>0.0</td>\n",
       "      <td>0.0</td>\n",
       "      <td>0.0</td>\n",
       "      <td>0.0</td>\n",
       "      <td>0.0</td>\n",
       "      <td>0.0</td>\n",
       "      <td>0.0</td>\n",
       "      <td>0.0</td>\n",
       "      <td>0.0</td>\n",
       "      <td>0.0</td>\n",
       "      <td>0.0</td>\n",
       "      <td>0.0</td>\n",
       "      <td>0.0</td>\n",
       "      <td>0.0</td>\n",
       "      <td>0.0</td>\n",
       "      <td>0.0</td>\n",
       "      <td>0.0</td>\n",
       "      <td>0.0</td>\n",
       "    </tr>\n",
       "  </tbody>\n",
       "</table>\n",
       "</div>"
      ],
      "text/plain": [
       "         license  neighbourhood_group  host_about  review_scores_checkin  \\\n",
       "% nulos    100.0                100.0       59.65                  42.55   \n",
       "\n",
       "         review_scores_location  review_scores_value  \\\n",
       "% nulos                   42.55                42.55   \n",
       "\n",
       "         review_scores_communication  review_scores_accuracy  \\\n",
       "% nulos                        42.55                   42.55   \n",
       "\n",
       "         review_scores_cleanliness  reviews_per_month_y  review_scores_rating  \\\n",
       "% nulos                      42.55                42.26                 42.26   \n",
       "\n",
       "         last_review  reviews_per_month_x  first_review  host_response_rate  \\\n",
       "% nulos        42.26                42.26         42.26               24.16   \n",
       "\n",
       "         host_response_time  name  property_type  maximum_nights  \\\n",
       "% nulos               24.16  0.06            0.0             0.0   \n",
       "\n",
       "         number_of_reviews_ltm_y  host_listings_count  host_name  \\\n",
       "% nulos                      0.0                  0.0        0.0   \n",
       "\n",
       "         neighbourhood  latitude  host_is_superhost  listing_url  longitude  \\\n",
       "% nulos            0.0       0.0                0.0          0.0        0.0   \n",
       "\n",
       "         host_id  room_type  price  minimum_nights  number_of_reviews  \\\n",
       "% nulos      0.0        0.0    0.0             0.0                0.0   \n",
       "\n",
       "         calculated_host_listings_count  availability_365  \\\n",
       "% nulos                             0.0               0.0   \n",
       "\n",
       "         number_of_reviews_ltm_x  accommodates  \n",
       "% nulos                      0.0           0.0  "
      ]
     },
     "execution_count": 59,
     "metadata": {},
     "output_type": "execute_result"
    }
   ],
   "source": [
    "# Vemos el % de columnas con valores nulos\n",
    "percentage_null(df).T"
   ]
  },
  {
   "attachments": {},
   "cell_type": "markdown",
   "metadata": {},
   "source": [
    "Las columnas license y neighbourhood_group presentan un 100% de porcentaje nulos se procede a eliminarlas.\n"
   ]
  },
  {
   "cell_type": "code",
   "execution_count": 60,
   "metadata": {},
   "outputs": [],
   "source": [
    "# Como las columnas license y neighbourhood_group presentan un 100% de porcentaje nulos se procede a eliminarlas\n",
    "df = df.drop(columns=['neighbourhood_group','license'])"
   ]
  },
  {
   "cell_type": "code",
   "execution_count": 61,
   "metadata": {},
   "outputs": [],
   "source": [
    "# La columna host_about es la descripción que hace el host para presentarse, como es una variable que no vamos a utilizar\n",
    "# procedemos a quiratla de nuestro df.\n",
    "df = df.drop(columns=['host_about'])"
   ]
  },
  {
   "cell_type": "code",
   "execution_count": 62,
   "metadata": {},
   "outputs": [],
   "source": [
    "# En la columna name vamos a reemplazar los nulos por la palabra \"no_name\"\n",
    "df['name'] = df['name'].fillna(\"no_name\")"
   ]
  },
  {
   "attachments": {},
   "cell_type": "markdown",
   "metadata": {},
   "source": [
    "Con respecto a resto de las columnas que contienen null y corresponden a reviews no las vamos a reemplazar ya que es mejor trabajar con la información real."
   ]
  },
  {
   "cell_type": "code",
   "execution_count": 63,
   "metadata": {},
   "outputs": [
    {
     "data": {
      "text/html": [
       "<div>\n",
       "<style scoped>\n",
       "    .dataframe tbody tr th:only-of-type {\n",
       "        vertical-align: middle;\n",
       "    }\n",
       "\n",
       "    .dataframe tbody tr th {\n",
       "        vertical-align: top;\n",
       "    }\n",
       "\n",
       "    .dataframe thead th {\n",
       "        text-align: right;\n",
       "    }\n",
       "</style>\n",
       "<table border=\"1\" class=\"dataframe\">\n",
       "  <thead>\n",
       "    <tr style=\"text-align: right;\">\n",
       "      <th></th>\n",
       "      <th>review_scores_value</th>\n",
       "      <th>review_scores_location</th>\n",
       "      <th>review_scores_checkin</th>\n",
       "      <th>review_scores_cleanliness</th>\n",
       "      <th>review_scores_accuracy</th>\n",
       "      <th>review_scores_communication</th>\n",
       "      <th>reviews_per_month_y</th>\n",
       "      <th>reviews_per_month_x</th>\n",
       "      <th>last_review</th>\n",
       "      <th>review_scores_rating</th>\n",
       "      <th>first_review</th>\n",
       "      <th>host_response_time</th>\n",
       "      <th>host_response_rate</th>\n",
       "      <th>maximum_nights</th>\n",
       "      <th>listing_url</th>\n",
       "      <th>host_is_superhost</th>\n",
       "      <th>host_listings_count</th>\n",
       "      <th>number_of_reviews_ltm_y</th>\n",
       "      <th>name</th>\n",
       "      <th>host_id</th>\n",
       "      <th>property_type</th>\n",
       "      <th>number_of_reviews_ltm_x</th>\n",
       "      <th>availability_365</th>\n",
       "      <th>calculated_host_listings_count</th>\n",
       "      <th>number_of_reviews</th>\n",
       "      <th>minimum_nights</th>\n",
       "      <th>price</th>\n",
       "      <th>room_type</th>\n",
       "      <th>longitude</th>\n",
       "      <th>latitude</th>\n",
       "      <th>neighbourhood</th>\n",
       "      <th>host_name</th>\n",
       "      <th>accommodates</th>\n",
       "    </tr>\n",
       "  </thead>\n",
       "  <tbody>\n",
       "    <tr>\n",
       "      <th>% nulos</th>\n",
       "      <td>42.55</td>\n",
       "      <td>42.55</td>\n",
       "      <td>42.55</td>\n",
       "      <td>42.55</td>\n",
       "      <td>42.55</td>\n",
       "      <td>42.55</td>\n",
       "      <td>42.26</td>\n",
       "      <td>42.26</td>\n",
       "      <td>42.26</td>\n",
       "      <td>42.26</td>\n",
       "      <td>42.26</td>\n",
       "      <td>24.16</td>\n",
       "      <td>24.16</td>\n",
       "      <td>0.0</td>\n",
       "      <td>0.0</td>\n",
       "      <td>0.0</td>\n",
       "      <td>0.0</td>\n",
       "      <td>0.0</td>\n",
       "      <td>0.0</td>\n",
       "      <td>0.0</td>\n",
       "      <td>0.0</td>\n",
       "      <td>0.0</td>\n",
       "      <td>0.0</td>\n",
       "      <td>0.0</td>\n",
       "      <td>0.0</td>\n",
       "      <td>0.0</td>\n",
       "      <td>0.0</td>\n",
       "      <td>0.0</td>\n",
       "      <td>0.0</td>\n",
       "      <td>0.0</td>\n",
       "      <td>0.0</td>\n",
       "      <td>0.0</td>\n",
       "      <td>0.0</td>\n",
       "    </tr>\n",
       "  </tbody>\n",
       "</table>\n",
       "</div>"
      ],
      "text/plain": [
       "         review_scores_value  review_scores_location  review_scores_checkin  \\\n",
       "% nulos                42.55                   42.55                  42.55   \n",
       "\n",
       "         review_scores_cleanliness  review_scores_accuracy  \\\n",
       "% nulos                      42.55                   42.55   \n",
       "\n",
       "         review_scores_communication  reviews_per_month_y  \\\n",
       "% nulos                        42.55                42.26   \n",
       "\n",
       "         reviews_per_month_x  last_review  review_scores_rating  first_review  \\\n",
       "% nulos                42.26        42.26                 42.26         42.26   \n",
       "\n",
       "         host_response_time  host_response_rate  maximum_nights  listing_url  \\\n",
       "% nulos               24.16               24.16             0.0          0.0   \n",
       "\n",
       "         host_is_superhost  host_listings_count  number_of_reviews_ltm_y  \\\n",
       "% nulos                0.0                  0.0                      0.0   \n",
       "\n",
       "         name  host_id  property_type  number_of_reviews_ltm_x  \\\n",
       "% nulos   0.0      0.0            0.0                      0.0   \n",
       "\n",
       "         availability_365  calculated_host_listings_count  number_of_reviews  \\\n",
       "% nulos               0.0                             0.0                0.0   \n",
       "\n",
       "         minimum_nights  price  room_type  longitude  latitude  neighbourhood  \\\n",
       "% nulos             0.0    0.0        0.0        0.0       0.0            0.0   \n",
       "\n",
       "         host_name  accommodates  \n",
       "% nulos        0.0           0.0  "
      ]
     },
     "execution_count": 63,
     "metadata": {},
     "output_type": "execute_result"
    }
   ],
   "source": [
    "percentage_null(df).T"
   ]
  },
  {
   "attachments": {},
   "cell_type": "markdown",
   "metadata": {},
   "source": [
    "### Tranformación de columnas"
   ]
  },
  {
   "cell_type": "code",
   "execution_count": 64,
   "metadata": {},
   "outputs": [],
   "source": [
    "pd.set_option('display.max_columns', None)"
   ]
  },
  {
   "cell_type": "code",
   "execution_count": 65,
   "metadata": {},
   "outputs": [
    {
     "name": "stdout",
     "output_type": "stream",
     "text": [
      "<class 'pandas.core.frame.DataFrame'>\n",
      "Index: 41501 entries, 25436 to 857756437907689464\n",
      "Data columns (total 33 columns):\n",
      " #   Column                          Non-Null Count  Dtype  \n",
      "---  ------                          --------------  -----  \n",
      " 0   name                            41501 non-null  object \n",
      " 1   host_id                         41501 non-null  int64  \n",
      " 2   host_name                       41501 non-null  object \n",
      " 3   neighbourhood                   41501 non-null  object \n",
      " 4   latitude                        41501 non-null  float64\n",
      " 5   longitude                       41501 non-null  float64\n",
      " 6   room_type                       41501 non-null  object \n",
      " 7   price                           41501 non-null  int64  \n",
      " 8   minimum_nights                  41501 non-null  int64  \n",
      " 9   number_of_reviews               41501 non-null  int64  \n",
      " 10  last_review                     23964 non-null  object \n",
      " 11  reviews_per_month_x             23964 non-null  float64\n",
      " 12  calculated_host_listings_count  41501 non-null  int64  \n",
      " 13  availability_365                41501 non-null  int64  \n",
      " 14  number_of_reviews_ltm_x         41501 non-null  int64  \n",
      " 15  property_type                   41501 non-null  object \n",
      " 16  accommodates                    41501 non-null  int64  \n",
      " 17  first_review                    23964 non-null  object \n",
      " 18  review_scores_value             23842 non-null  float64\n",
      " 19  review_scores_cleanliness       23843 non-null  float64\n",
      " 20  review_scores_location          23842 non-null  float64\n",
      " 21  review_scores_accuracy          23843 non-null  float64\n",
      " 22  review_scores_communication     23843 non-null  float64\n",
      " 23  review_scores_checkin           23842 non-null  float64\n",
      " 24  review_scores_rating            23964 non-null  float64\n",
      " 25  maximum_nights                  41501 non-null  int64  \n",
      " 26  listing_url                     41501 non-null  object \n",
      " 27  host_is_superhost               41501 non-null  object \n",
      " 28  host_response_time              31476 non-null  object \n",
      " 29  host_response_rate              31476 non-null  object \n",
      " 30  host_listings_count             41501 non-null  int64  \n",
      " 31  number_of_reviews_ltm_y         41501 non-null  int64  \n",
      " 32  reviews_per_month_y             23964 non-null  float64\n",
      "dtypes: float64(11), int64(11), object(11)\n",
      "memory usage: 10.8+ MB\n",
      "None\n"
     ]
    }
   ],
   "source": [
    "# Usamos el método info para ver como estan compuestas nuestras columnas\n",
    "print(df.info())"
   ]
  },
  {
   "cell_type": "code",
   "execution_count": 66,
   "metadata": {},
   "outputs": [],
   "source": [
    "# Podemos ver que el dtype de las columnas estan correctos por lo que no procedemos a realizar ningun cambio\n",
    "df['host_response_rate'] = pd.to_numeric(df['host_response_rate'].str.strip('%'))"
   ]
  },
  {
   "cell_type": "code",
   "execution_count": 67,
   "metadata": {},
   "outputs": [],
   "source": [
    "# Cambiamos el contenido de la columna host_is_superhost a través de un diccionario:\n",
    "# df['host_is_superhost'] = df['host_is_superhost'].replace({'f': False, 't': True})"
   ]
  },
  {
   "cell_type": "code",
   "execution_count": 68,
   "metadata": {},
   "outputs": [],
   "source": [
    "df['price_euro'] = df['price']*0.04564 \n",
    "df['price_euro'] = df['price_euro'].round(2).astype('int64')"
   ]
  },
  {
   "cell_type": "code",
   "execution_count": 69,
   "metadata": {},
   "outputs": [
    {
     "data": {
      "text/html": [
       "<div>\n",
       "<style scoped>\n",
       "    .dataframe tbody tr th:only-of-type {\n",
       "        vertical-align: middle;\n",
       "    }\n",
       "\n",
       "    .dataframe tbody tr th {\n",
       "        vertical-align: top;\n",
       "    }\n",
       "\n",
       "    .dataframe thead th {\n",
       "        text-align: right;\n",
       "    }\n",
       "</style>\n",
       "<table border=\"1\" class=\"dataframe\">\n",
       "  <thead>\n",
       "    <tr style=\"text-align: right;\">\n",
       "      <th></th>\n",
       "      <th>name</th>\n",
       "      <th>host_id</th>\n",
       "      <th>host_name</th>\n",
       "      <th>neighbourhood</th>\n",
       "      <th>latitude</th>\n",
       "      <th>longitude</th>\n",
       "      <th>room_type</th>\n",
       "      <th>price</th>\n",
       "      <th>minimum_nights</th>\n",
       "      <th>number_of_reviews</th>\n",
       "      <th>last_review</th>\n",
       "      <th>reviews_per_month_x</th>\n",
       "      <th>calculated_host_listings_count</th>\n",
       "      <th>availability_365</th>\n",
       "      <th>number_of_reviews_ltm_x</th>\n",
       "      <th>property_type</th>\n",
       "      <th>accommodates</th>\n",
       "      <th>first_review</th>\n",
       "      <th>review_scores_value</th>\n",
       "      <th>review_scores_cleanliness</th>\n",
       "      <th>review_scores_location</th>\n",
       "      <th>review_scores_accuracy</th>\n",
       "      <th>review_scores_communication</th>\n",
       "      <th>review_scores_checkin</th>\n",
       "      <th>review_scores_rating</th>\n",
       "      <th>maximum_nights</th>\n",
       "      <th>listing_url</th>\n",
       "      <th>host_is_superhost</th>\n",
       "      <th>host_response_time</th>\n",
       "      <th>host_response_rate</th>\n",
       "      <th>host_listings_count</th>\n",
       "      <th>number_of_reviews_ltm_y</th>\n",
       "      <th>reviews_per_month_y</th>\n",
       "      <th>price_euro</th>\n",
       "    </tr>\n",
       "    <tr>\n",
       "      <th>id</th>\n",
       "      <th></th>\n",
       "      <th></th>\n",
       "      <th></th>\n",
       "      <th></th>\n",
       "      <th></th>\n",
       "      <th></th>\n",
       "      <th></th>\n",
       "      <th></th>\n",
       "      <th></th>\n",
       "      <th></th>\n",
       "      <th></th>\n",
       "      <th></th>\n",
       "      <th></th>\n",
       "      <th></th>\n",
       "      <th></th>\n",
       "      <th></th>\n",
       "      <th></th>\n",
       "      <th></th>\n",
       "      <th></th>\n",
       "      <th></th>\n",
       "      <th></th>\n",
       "      <th></th>\n",
       "      <th></th>\n",
       "      <th></th>\n",
       "      <th></th>\n",
       "      <th></th>\n",
       "      <th></th>\n",
       "      <th></th>\n",
       "      <th></th>\n",
       "      <th></th>\n",
       "      <th></th>\n",
       "      <th></th>\n",
       "      <th></th>\n",
       "      <th></th>\n",
       "    </tr>\n",
       "  </thead>\n",
       "  <tbody>\n",
       "    <tr>\n",
       "      <th>25436</th>\n",
       "      <td>In the forest Sea view Two minutes to the city.</td>\n",
       "      <td>105823</td>\n",
       "      <td>Yesim</td>\n",
       "      <td>Besiktas</td>\n",
       "      <td>41.07883</td>\n",
       "      <td>29.03863</td>\n",
       "      <td>Entire home/apt</td>\n",
       "      <td>2085</td>\n",
       "      <td>25</td>\n",
       "      <td>0</td>\n",
       "      <td>NaN</td>\n",
       "      <td>NaN</td>\n",
       "      <td>1</td>\n",
       "      <td>348</td>\n",
       "      <td>0</td>\n",
       "      <td>Entire rental unit</td>\n",
       "      <td>3</td>\n",
       "      <td>NaN</td>\n",
       "      <td>NaN</td>\n",
       "      <td>NaN</td>\n",
       "      <td>NaN</td>\n",
       "      <td>NaN</td>\n",
       "      <td>NaN</td>\n",
       "      <td>NaN</td>\n",
       "      <td>NaN</td>\n",
       "      <td>1125</td>\n",
       "      <td>https://www.airbnb.com/rooms/25436</td>\n",
       "      <td>f</td>\n",
       "      <td>NaN</td>\n",
       "      <td>NaN</td>\n",
       "      <td>1</td>\n",
       "      <td>0</td>\n",
       "      <td>NaN</td>\n",
       "      <td>95</td>\n",
       "    </tr>\n",
       "    <tr>\n",
       "      <th>27271</th>\n",
       "      <td>Lovely apartment in perfect location</td>\n",
       "      <td>117026</td>\n",
       "      <td>Mutlu</td>\n",
       "      <td>Beyoglu</td>\n",
       "      <td>41.03254</td>\n",
       "      <td>28.98153</td>\n",
       "      <td>Entire home/apt</td>\n",
       "      <td>1044</td>\n",
       "      <td>10</td>\n",
       "      <td>4</td>\n",
       "      <td>2022-11-01</td>\n",
       "      <td>0.04</td>\n",
       "      <td>1</td>\n",
       "      <td>266</td>\n",
       "      <td>1</td>\n",
       "      <td>Entire rental unit</td>\n",
       "      <td>2</td>\n",
       "      <td>2014-10-20</td>\n",
       "      <td>5.00</td>\n",
       "      <td>4.75</td>\n",
       "      <td>5.00</td>\n",
       "      <td>5.00</td>\n",
       "      <td>5.00</td>\n",
       "      <td>5.00</td>\n",
       "      <td>5.00</td>\n",
       "      <td>90</td>\n",
       "      <td>https://www.airbnb.com/rooms/27271</td>\n",
       "      <td>f</td>\n",
       "      <td>within a day</td>\n",
       "      <td>100.0</td>\n",
       "      <td>1</td>\n",
       "      <td>1</td>\n",
       "      <td>0.04</td>\n",
       "      <td>47</td>\n",
       "    </tr>\n",
       "    <tr>\n",
       "      <th>304011</th>\n",
       "      <td>Beyoglu / Central with Beautiful View</td>\n",
       "      <td>1564870</td>\n",
       "      <td>Living</td>\n",
       "      <td>Beyoglu</td>\n",
       "      <td>41.03537</td>\n",
       "      <td>28.97316</td>\n",
       "      <td>Entire home/apt</td>\n",
       "      <td>1118</td>\n",
       "      <td>28</td>\n",
       "      <td>28</td>\n",
       "      <td>2023-03-18</td>\n",
       "      <td>0.26</td>\n",
       "      <td>2</td>\n",
       "      <td>240</td>\n",
       "      <td>7</td>\n",
       "      <td>Entire rental unit</td>\n",
       "      <td>4</td>\n",
       "      <td>2014-05-12</td>\n",
       "      <td>4.63</td>\n",
       "      <td>4.93</td>\n",
       "      <td>4.59</td>\n",
       "      <td>4.85</td>\n",
       "      <td>4.93</td>\n",
       "      <td>4.96</td>\n",
       "      <td>4.67</td>\n",
       "      <td>365</td>\n",
       "      <td>https://www.airbnb.com/rooms/304011</td>\n",
       "      <td>t</td>\n",
       "      <td>within a few hours</td>\n",
       "      <td>90.0</td>\n",
       "      <td>2</td>\n",
       "      <td>7</td>\n",
       "      <td>0.26</td>\n",
       "      <td>51</td>\n",
       "    </tr>\n",
       "    <tr>\n",
       "      <th>304029</th>\n",
       "      <td>Zero km to City Center -- Friendly</td>\n",
       "      <td>1564916</td>\n",
       "      <td>Esen</td>\n",
       "      <td>Sisli</td>\n",
       "      <td>41.05156</td>\n",
       "      <td>28.99052</td>\n",
       "      <td>Private room</td>\n",
       "      <td>384</td>\n",
       "      <td>2</td>\n",
       "      <td>36</td>\n",
       "      <td>2023-01-05</td>\n",
       "      <td>0.27</td>\n",
       "      <td>1</td>\n",
       "      <td>94</td>\n",
       "      <td>1</td>\n",
       "      <td>Private room in loft</td>\n",
       "      <td>2</td>\n",
       "      <td>2012-05-07</td>\n",
       "      <td>4.91</td>\n",
       "      <td>4.94</td>\n",
       "      <td>4.79</td>\n",
       "      <td>4.88</td>\n",
       "      <td>5.00</td>\n",
       "      <td>5.00</td>\n",
       "      <td>4.94</td>\n",
       "      <td>10</td>\n",
       "      <td>https://www.airbnb.com/rooms/304029</td>\n",
       "      <td>f</td>\n",
       "      <td>within a few hours</td>\n",
       "      <td>100.0</td>\n",
       "      <td>1</td>\n",
       "      <td>1</td>\n",
       "      <td>0.27</td>\n",
       "      <td>17</td>\n",
       "    </tr>\n",
       "    <tr>\n",
       "      <th>28277</th>\n",
       "      <td>Duplex Apartment 11 with Terrace</td>\n",
       "      <td>121607</td>\n",
       "      <td>Alen Ziya</td>\n",
       "      <td>Sisli</td>\n",
       "      <td>41.04672</td>\n",
       "      <td>28.98402</td>\n",
       "      <td>Entire home/apt</td>\n",
       "      <td>1857</td>\n",
       "      <td>10</td>\n",
       "      <td>8</td>\n",
       "      <td>2022-11-26</td>\n",
       "      <td>0.35</td>\n",
       "      <td>20</td>\n",
       "      <td>361</td>\n",
       "      <td>6</td>\n",
       "      <td>Entire serviced apartment</td>\n",
       "      <td>5</td>\n",
       "      <td>2021-05-15</td>\n",
       "      <td>4.75</td>\n",
       "      <td>4.75</td>\n",
       "      <td>5.00</td>\n",
       "      <td>5.00</td>\n",
       "      <td>5.00</td>\n",
       "      <td>4.88</td>\n",
       "      <td>5.00</td>\n",
       "      <td>360</td>\n",
       "      <td>https://www.airbnb.com/rooms/28277</td>\n",
       "      <td>t</td>\n",
       "      <td>within an hour</td>\n",
       "      <td>100.0</td>\n",
       "      <td>20</td>\n",
       "      <td>6</td>\n",
       "      <td>0.35</td>\n",
       "      <td>84</td>\n",
       "    </tr>\n",
       "  </tbody>\n",
       "</table>\n",
       "</div>"
      ],
      "text/plain": [
       "                                                   name  host_id  host_name  \\\n",
       "id                                                                            \n",
       "25436   In the forest Sea view Two minutes to the city.   105823      Yesim   \n",
       "27271              Lovely apartment in perfect location   117026      Mutlu   \n",
       "304011            Beyoglu / Central with Beautiful View  1564870     Living   \n",
       "304029               Zero km to City Center -- Friendly  1564916       Esen   \n",
       "28277                  Duplex Apartment 11 with Terrace   121607  Alen Ziya   \n",
       "\n",
       "       neighbourhood  latitude  longitude        room_type  price  \\\n",
       "id                                                                  \n",
       "25436       Besiktas  41.07883   29.03863  Entire home/apt   2085   \n",
       "27271        Beyoglu  41.03254   28.98153  Entire home/apt   1044   \n",
       "304011       Beyoglu  41.03537   28.97316  Entire home/apt   1118   \n",
       "304029         Sisli  41.05156   28.99052     Private room    384   \n",
       "28277          Sisli  41.04672   28.98402  Entire home/apt   1857   \n",
       "\n",
       "        minimum_nights  number_of_reviews last_review  reviews_per_month_x  \\\n",
       "id                                                                           \n",
       "25436               25                  0         NaN                  NaN   \n",
       "27271               10                  4  2022-11-01                 0.04   \n",
       "304011              28                 28  2023-03-18                 0.26   \n",
       "304029               2                 36  2023-01-05                 0.27   \n",
       "28277               10                  8  2022-11-26                 0.35   \n",
       "\n",
       "        calculated_host_listings_count  availability_365  \\\n",
       "id                                                         \n",
       "25436                                1               348   \n",
       "27271                                1               266   \n",
       "304011                               2               240   \n",
       "304029                               1                94   \n",
       "28277                               20               361   \n",
       "\n",
       "        number_of_reviews_ltm_x              property_type  accommodates  \\\n",
       "id                                                                         \n",
       "25436                         0         Entire rental unit             3   \n",
       "27271                         1         Entire rental unit             2   \n",
       "304011                        7         Entire rental unit             4   \n",
       "304029                        1       Private room in loft             2   \n",
       "28277                         6  Entire serviced apartment             5   \n",
       "\n",
       "       first_review  review_scores_value  review_scores_cleanliness  \\\n",
       "id                                                                    \n",
       "25436           NaN                  NaN                        NaN   \n",
       "27271    2014-10-20                 5.00                       4.75   \n",
       "304011   2014-05-12                 4.63                       4.93   \n",
       "304029   2012-05-07                 4.91                       4.94   \n",
       "28277    2021-05-15                 4.75                       4.75   \n",
       "\n",
       "        review_scores_location  review_scores_accuracy  \\\n",
       "id                                                       \n",
       "25436                      NaN                     NaN   \n",
       "27271                     5.00                    5.00   \n",
       "304011                    4.59                    4.85   \n",
       "304029                    4.79                    4.88   \n",
       "28277                     5.00                    5.00   \n",
       "\n",
       "        review_scores_communication  review_scores_checkin  \\\n",
       "id                                                           \n",
       "25436                           NaN                    NaN   \n",
       "27271                          5.00                   5.00   \n",
       "304011                         4.93                   4.96   \n",
       "304029                         5.00                   5.00   \n",
       "28277                          5.00                   4.88   \n",
       "\n",
       "        review_scores_rating  maximum_nights  \\\n",
       "id                                             \n",
       "25436                    NaN            1125   \n",
       "27271                   5.00              90   \n",
       "304011                  4.67             365   \n",
       "304029                  4.94              10   \n",
       "28277                   5.00             360   \n",
       "\n",
       "                                listing_url host_is_superhost  \\\n",
       "id                                                              \n",
       "25436    https://www.airbnb.com/rooms/25436                 f   \n",
       "27271    https://www.airbnb.com/rooms/27271                 f   \n",
       "304011  https://www.airbnb.com/rooms/304011                 t   \n",
       "304029  https://www.airbnb.com/rooms/304029                 f   \n",
       "28277    https://www.airbnb.com/rooms/28277                 t   \n",
       "\n",
       "        host_response_time  host_response_rate  host_listings_count  \\\n",
       "id                                                                    \n",
       "25436                  NaN                 NaN                    1   \n",
       "27271         within a day               100.0                    1   \n",
       "304011  within a few hours                90.0                    2   \n",
       "304029  within a few hours               100.0                    1   \n",
       "28277       within an hour               100.0                   20   \n",
       "\n",
       "        number_of_reviews_ltm_y  reviews_per_month_y  price_euro  \n",
       "id                                                                \n",
       "25436                         0                  NaN          95  \n",
       "27271                         1                 0.04          47  \n",
       "304011                        7                 0.26          51  \n",
       "304029                        1                 0.27          17  \n",
       "28277                         6                 0.35          84  "
      ]
     },
     "execution_count": 69,
     "metadata": {},
     "output_type": "execute_result"
    }
   ],
   "source": [
    "# Ahora si imprimimos el head del df con el que vamos a continuar:\n",
    "df.head()"
   ]
  },
  {
   "attachments": {},
   "cell_type": "markdown",
   "metadata": {},
   "source": [
    "## 4.3 Dataset: calendar"
   ]
  },
  {
   "attachments": {},
   "cell_type": "markdown",
   "metadata": {},
   "source": [
    "Este Dataframe muestra la disponibiiad que tiene el alojamiento desde el 2023-03-31  al  2024-04-02."
   ]
  },
  {
   "attachments": {},
   "cell_type": "markdown",
   "metadata": {},
   "source": [
    "### Informe inicial"
   ]
  },
  {
   "cell_type": "code",
   "execution_count": 70,
   "metadata": {},
   "outputs": [
    {
     "name": "stdout",
     "output_type": "stream",
     "text": [
      "El df esta formado por:  15146021 filas y 7 columnas\n"
     ]
    },
    {
     "name": "stdout",
     "output_type": "stream",
     "text": [
      "Cantidad de valores duplicados:  0\n",
      "Cantidad de valores nulos:  68\n"
     ]
    }
   ],
   "source": [
    "reporte(calendar)"
   ]
  },
  {
   "cell_type": "code",
   "execution_count": 71,
   "metadata": {},
   "outputs": [
    {
     "data": {
      "text/html": [
       "<div>\n",
       "<style scoped>\n",
       "    .dataframe tbody tr th:only-of-type {\n",
       "        vertical-align: middle;\n",
       "    }\n",
       "\n",
       "    .dataframe tbody tr th {\n",
       "        vertical-align: top;\n",
       "    }\n",
       "\n",
       "    .dataframe thead th {\n",
       "        text-align: right;\n",
       "    }\n",
       "</style>\n",
       "<table border=\"1\" class=\"dataframe\">\n",
       "  <thead>\n",
       "    <tr style=\"text-align: right;\">\n",
       "      <th></th>\n",
       "      <th>listing_id</th>\n",
       "      <th>date</th>\n",
       "      <th>available</th>\n",
       "      <th>price</th>\n",
       "      <th>adjusted_price</th>\n",
       "      <th>minimum_nights</th>\n",
       "      <th>maximum_nights</th>\n",
       "    </tr>\n",
       "  </thead>\n",
       "  <tbody>\n",
       "    <tr>\n",
       "      <th>0</th>\n",
       "      <td>25436</td>\n",
       "      <td>2023-03-31</td>\n",
       "      <td>f</td>\n",
       "      <td>$2,085.00</td>\n",
       "      <td>$2,085.00</td>\n",
       "      <td>25.0</td>\n",
       "      <td>1125.0</td>\n",
       "    </tr>\n",
       "    <tr>\n",
       "      <th>1</th>\n",
       "      <td>25436</td>\n",
       "      <td>2023-04-01</td>\n",
       "      <td>f</td>\n",
       "      <td>$2,085.00</td>\n",
       "      <td>$2,085.00</td>\n",
       "      <td>25.0</td>\n",
       "      <td>1125.0</td>\n",
       "    </tr>\n",
       "    <tr>\n",
       "      <th>2</th>\n",
       "      <td>25436</td>\n",
       "      <td>2023-04-02</td>\n",
       "      <td>f</td>\n",
       "      <td>$2,085.00</td>\n",
       "      <td>$2,085.00</td>\n",
       "      <td>25.0</td>\n",
       "      <td>1125.0</td>\n",
       "    </tr>\n",
       "  </tbody>\n",
       "</table>\n",
       "</div>"
      ],
      "text/plain": [
       "   listing_id       date available      price adjusted_price  minimum_nights  \\\n",
       "0       25436 2023-03-31         f  $2,085.00      $2,085.00            25.0   \n",
       "1       25436 2023-04-01         f  $2,085.00      $2,085.00            25.0   \n",
       "2       25436 2023-04-02         f  $2,085.00      $2,085.00            25.0   \n",
       "\n",
       "   maximum_nights  \n",
       "0          1125.0  \n",
       "1          1125.0  \n",
       "2          1125.0  "
      ]
     },
     "execution_count": 71,
     "metadata": {},
     "output_type": "execute_result"
    }
   ],
   "source": [
    "calendar.head(3)"
   ]
  },
  {
   "cell_type": "code",
   "execution_count": 72,
   "metadata": {},
   "outputs": [
    {
     "name": "stdout",
     "output_type": "stream",
     "text": [
      "<class 'pandas.core.frame.DataFrame'>\n",
      "RangeIndex: 15146021 entries, 0 to 15146020\n",
      "Data columns (total 7 columns):\n",
      " #   Column          Dtype         \n",
      "---  ------          -----         \n",
      " 0   listing_id      int64         \n",
      " 1   date            datetime64[ns]\n",
      " 2   available       object        \n",
      " 3   price           object        \n",
      " 4   adjusted_price  object        \n",
      " 5   minimum_nights  float64       \n",
      " 6   maximum_nights  float64       \n",
      "dtypes: datetime64[ns](1), float64(2), int64(1), object(3)\n",
      "memory usage: 808.9+ MB\n"
     ]
    }
   ],
   "source": [
    "calendar.info()"
   ]
  },
  {
   "cell_type": "code",
   "execution_count": 73,
   "metadata": {},
   "outputs": [],
   "source": [
    "calendar['date'] = calendar['date'].dt.date"
   ]
  },
  {
   "cell_type": "code",
   "execution_count": 74,
   "metadata": {},
   "outputs": [
    {
     "name": "stdout",
     "output_type": "stream",
     "text": [
      "Período de fechas de análisis 2023-03-31  -  2024-04-02\n"
     ]
    }
   ],
   "source": [
    "print('Período de fechas de análisis', calendar['date'].min(), ' - ', calendar['date'].max())"
   ]
  },
  {
   "attachments": {},
   "cell_type": "markdown",
   "metadata": {},
   "source": [
    "### Eliminación de duplicados"
   ]
  },
  {
   "cell_type": "code",
   "execution_count": 75,
   "metadata": {},
   "outputs": [],
   "source": [
    "# Eliminamos las filas dulicadas\n",
    "# calendar = calendar.drop_duplicates()"
   ]
  },
  {
   "attachments": {},
   "cell_type": "markdown",
   "metadata": {},
   "source": [
    "### Eliminación de columnas con valores nulos"
   ]
  },
  {
   "cell_type": "code",
   "execution_count": null,
   "metadata": {},
   "outputs": [],
   "source": []
  },
  {
   "attachments": {},
   "cell_type": "markdown",
   "metadata": {},
   "source": [
    "## 4.4 Dataset: reviews_details"
   ]
  },
  {
   "attachments": {},
   "cell_type": "markdown",
   "metadata": {},
   "source": [
    "### Informe inicial"
   ]
  },
  {
   "cell_type": "code",
   "execution_count": 76,
   "metadata": {},
   "outputs": [
    {
     "name": "stdout",
     "output_type": "stream",
     "text": [
      "El df esta formado por:  416940 filas y 7 columnas\n"
     ]
    },
    {
     "name": "stdout",
     "output_type": "stream",
     "text": [
      "Cantidad de valores duplicados:  0\n",
      "Cantidad de valores nulos:  21\n"
     ]
    }
   ],
   "source": [
    "reporte(reviews_details)"
   ]
  },
  {
   "attachments": {},
   "cell_type": "markdown",
   "metadata": {},
   "source": [
    "### Eliminación de columnas con valores nulos"
   ]
  },
  {
   "cell_type": "code",
   "execution_count": 77,
   "metadata": {},
   "outputs": [
    {
     "data": {
      "text/html": [
       "<div>\n",
       "<style scoped>\n",
       "    .dataframe tbody tr th:only-of-type {\n",
       "        vertical-align: middle;\n",
       "    }\n",
       "\n",
       "    .dataframe tbody tr th {\n",
       "        vertical-align: top;\n",
       "    }\n",
       "\n",
       "    .dataframe thead th {\n",
       "        text-align: right;\n",
       "    }\n",
       "</style>\n",
       "<table border=\"1\" class=\"dataframe\">\n",
       "  <thead>\n",
       "    <tr style=\"text-align: right;\">\n",
       "      <th></th>\n",
       "      <th>% nulos</th>\n",
       "    </tr>\n",
       "  </thead>\n",
       "  <tbody>\n",
       "    <tr>\n",
       "      <th>comments</th>\n",
       "      <td>0.0</td>\n",
       "    </tr>\n",
       "    <tr>\n",
       "      <th>reviewer_name</th>\n",
       "      <td>0.0</td>\n",
       "    </tr>\n",
       "    <tr>\n",
       "      <th>index</th>\n",
       "      <td>0.0</td>\n",
       "    </tr>\n",
       "    <tr>\n",
       "      <th>listing_id</th>\n",
       "      <td>0.0</td>\n",
       "    </tr>\n",
       "    <tr>\n",
       "      <th>id</th>\n",
       "      <td>0.0</td>\n",
       "    </tr>\n",
       "    <tr>\n",
       "      <th>date</th>\n",
       "      <td>0.0</td>\n",
       "    </tr>\n",
       "    <tr>\n",
       "      <th>reviewer_id</th>\n",
       "      <td>0.0</td>\n",
       "    </tr>\n",
       "  </tbody>\n",
       "</table>\n",
       "</div>"
      ],
      "text/plain": [
       "               % nulos\n",
       "comments           0.0\n",
       "reviewer_name      0.0\n",
       "index              0.0\n",
       "listing_id         0.0\n",
       "id                 0.0\n",
       "date               0.0\n",
       "reviewer_id        0.0"
      ]
     },
     "execution_count": 77,
     "metadata": {},
     "output_type": "execute_result"
    }
   ],
   "source": [
    "# Vemos el % de columnas con valores nulos\n",
    "percentage_null(reviews_details)"
   ]
  },
  {
   "cell_type": "code",
   "execution_count": 78,
   "metadata": {},
   "outputs": [],
   "source": [
    "#  Dado que esta columa presenta valores muy pequeños de nulos se reemplazan por un \"no_comments\"\n",
    "reviews_details['comments'] = reviews_details['comments'].fillna(\"no_comments\")"
   ]
  },
  {
   "cell_type": "code",
   "execution_count": 79,
   "metadata": {},
   "outputs": [],
   "source": [
    "#  Dado que esta columa presenta valores muy pequeños de nulos se reemplazan por un \"no_name\"\n",
    "reviews_details['reviewer_name'] = reviews_details['reviewer_name'].fillna(\"no_name\")"
   ]
  },
  {
   "attachments": {},
   "cell_type": "markdown",
   "metadata": {},
   "source": [
    "## 4.5 Dataset: neighbourhoods"
   ]
  },
  {
   "attachments": {},
   "cell_type": "markdown",
   "metadata": {},
   "source": [
    "Este dataframe contiene una lista de todos los vecindarios que presenta nuetro dt.\n"
   ]
  },
  {
   "attachments": {},
   "cell_type": "markdown",
   "metadata": {},
   "source": [
    "### Informe inicial"
   ]
  },
  {
   "cell_type": "code",
   "execution_count": 80,
   "metadata": {},
   "outputs": [
    {
     "name": "stdout",
     "output_type": "stream",
     "text": [
      "El df esta formado por:  39 filas y 3 columnas\n",
      "Cantidad de valores duplicados:  0\n",
      "Cantidad de valores nulos:  39\n"
     ]
    }
   ],
   "source": [
    "reporte(neighbourhoods)"
   ]
  },
  {
   "cell_type": "code",
   "execution_count": 81,
   "metadata": {},
   "outputs": [
    {
     "data": {
      "text/plain": [
       "39"
      ]
     },
     "execution_count": 81,
     "metadata": {},
     "output_type": "execute_result"
    }
   ],
   "source": [
    "# Cantidad de vecindarios:\n",
    "neighbourhoods['neighbourhood'].sort_values().count()"
   ]
  },
  {
   "cell_type": "code",
   "execution_count": 82,
   "metadata": {},
   "outputs": [
    {
     "data": {
      "text/html": [
       "<div>\n",
       "<style scoped>\n",
       "    .dataframe tbody tr th:only-of-type {\n",
       "        vertical-align: middle;\n",
       "    }\n",
       "\n",
       "    .dataframe tbody tr th {\n",
       "        vertical-align: top;\n",
       "    }\n",
       "\n",
       "    .dataframe thead th {\n",
       "        text-align: right;\n",
       "    }\n",
       "</style>\n",
       "<table border=\"1\" class=\"dataframe\">\n",
       "  <thead>\n",
       "    <tr style=\"text-align: right;\">\n",
       "      <th></th>\n",
       "      <th>index</th>\n",
       "      <th>neighbourhood_group</th>\n",
       "      <th>neighbourhood</th>\n",
       "    </tr>\n",
       "  </thead>\n",
       "  <tbody>\n",
       "    <tr>\n",
       "      <th>0</th>\n",
       "      <td>0</td>\n",
       "      <td>NaN</td>\n",
       "      <td>Adalar</td>\n",
       "    </tr>\n",
       "    <tr>\n",
       "      <th>1</th>\n",
       "      <td>1</td>\n",
       "      <td>NaN</td>\n",
       "      <td>Arnavutkoy</td>\n",
       "    </tr>\n",
       "    <tr>\n",
       "      <th>2</th>\n",
       "      <td>2</td>\n",
       "      <td>NaN</td>\n",
       "      <td>Atasehir</td>\n",
       "    </tr>\n",
       "    <tr>\n",
       "      <th>3</th>\n",
       "      <td>3</td>\n",
       "      <td>NaN</td>\n",
       "      <td>Avcilar</td>\n",
       "    </tr>\n",
       "    <tr>\n",
       "      <th>4</th>\n",
       "      <td>4</td>\n",
       "      <td>NaN</td>\n",
       "      <td>Bagcilar</td>\n",
       "    </tr>\n",
       "  </tbody>\n",
       "</table>\n",
       "</div>"
      ],
      "text/plain": [
       "   index  neighbourhood_group neighbourhood\n",
       "0      0                  NaN        Adalar\n",
       "1      1                  NaN    Arnavutkoy\n",
       "2      2                  NaN      Atasehir\n",
       "3      3                  NaN       Avcilar\n",
       "4      4                  NaN      Bagcilar"
      ]
     },
     "execution_count": 82,
     "metadata": {},
     "output_type": "execute_result"
    }
   ],
   "source": [
    "neighbourhoods.head()"
   ]
  },
  {
   "attachments": {},
   "cell_type": "markdown",
   "metadata": {},
   "source": [
    "## 4.6 Outliers"
   ]
  },
  {
   "attachments": {},
   "cell_type": "markdown",
   "metadata": {},
   "source": [
    "### Funciones de análisis y reemplazar outliers:"
   ]
  },
  {
   "cell_type": "code",
   "execution_count": 83,
   "metadata": {},
   "outputs": [],
   "source": [
    "# Función para encodear\n",
    "def encodear (df):\n",
    "    \"\"\"Esta función recibe un df y realiza en LabelEncode de aquellas variables que estan como: 'object' o 'string'\n",
    "    Devuelve un df encodeado\n",
    "    \"\"\"\n",
    "    from sklearn.preprocessing import LabelEncoder #Librería\n",
    "    le = LabelEncoder()\n",
    "    df_encoded = df.copy()\n",
    "    for col in df_encoded.columns[df_encoded.dtypes == 'object']:\n",
    "        df_encoded[col] = le.fit_transform(df_encoded[col].astype(str))\n",
    "    return df_encoded"
   ]
  },
  {
   "cell_type": "code",
   "execution_count": 84,
   "metadata": {},
   "outputs": [],
   "source": [
    "#Función para ver la cantidad de outliers que hay en un dataset\n",
    "def outliers (df):\n",
    "    \n",
    "    \"\"\" La función recibe un df\n",
    "    y calcula la cantidad de outliers en función del  primer cuartil y segundo cuartil\n",
    "    y devuelve un print de la cantida de outlier en cada columna\"\"\"\n",
    "\n",
    "    for columnas in df:\n",
    "        Q1 = df[columnas].quantile(0.25)\n",
    "        Q3 = df[columnas].quantile(0.75)\n",
    "        IQR = Q3 - Q1\n",
    "        outlierIzq = Q1-(1.5*IQR)\n",
    "        outlierDer = Q3+(1.5*IQR)\n",
    "        outliers = df[columnas][(df[columnas] < outlierIzq) | (df[columnas] > outlierDer)]\n",
    "        if len(outliers) >0:\n",
    "            print(\"La variable \" + columnas + \" tiene: \" + str(len(outliers)) + \" :valores outliers\")\n"
   ]
  },
  {
   "cell_type": "code",
   "execution_count": 85,
   "metadata": {},
   "outputs": [],
   "source": [
    "def reemplazar_outliers_iqr(df):\n",
    "    \"\"\"\n",
    "    La función recibe un df y reemplaza los outliers del  df usando el método IQR.\n",
    "    retorna un df con los putlier reemplazados en función del rango intercuartil \n",
    "    \"\"\"\n",
    "    for columna in df:\n",
    "        Q1 = df[columna].quantile(0.25)\n",
    "        Q3 = df[columna].quantile(0.75)\n",
    "        IQR = Q3 - Q1\n",
    "        outliers = df[(df[columna] < (Q1 - 1.5 * IQR)) | (df[columna] > (Q3 + 1.5 * IQR))]\n",
    "        df[columna] = np.where(df[columna] < (Q1 - 1.5 * IQR), Q1, df[columna])\n",
    "        df[columna] = np.where(df[columna] > (Q3 + 1.5 * IQR), Q3, df[columna])\n",
    "    return df.head()"
   ]
  },
  {
   "attachments": {},
   "cell_type": "markdown",
   "metadata": {},
   "source": [
    "### Encodeado y reemplazado de Outliers"
   ]
  },
  {
   "cell_type": "code",
   "execution_count": 86,
   "metadata": {},
   "outputs": [],
   "source": [
    "# Procedemos a encodear nuestro df definiedo un nuevo df encodeado:\n",
    "df_encoded = encodear(df)"
   ]
  },
  {
   "cell_type": "code",
   "execution_count": 87,
   "metadata": {},
   "outputs": [
    {
     "name": "stdout",
     "output_type": "stream",
     "text": [
      "La variable latitude tiene: 2739 :valores outliers\n",
      "La variable longitude tiene: 9938 :valores outliers\n",
      "La variable price tiene: 3185 :valores outliers\n",
      "La variable minimum_nights tiene: 5734 :valores outliers\n",
      "La variable number_of_reviews tiene: 5789 :valores outliers\n",
      "La variable last_review tiene: 4389 :valores outliers\n",
      "La variable reviews_per_month_x tiene: 1251 :valores outliers\n",
      "La variable calculated_host_listings_count tiene: 4336 :valores outliers\n",
      "La variable number_of_reviews_ltm_x tiene: 4949 :valores outliers\n",
      "La variable property_type tiene: 39 :valores outliers\n",
      "La variable accommodates tiene: 1500 :valores outliers\n",
      "La variable first_review tiene: 5059 :valores outliers\n",
      "La variable review_scores_value tiene: 1605 :valores outliers\n",
      "La variable review_scores_cleanliness tiene: 1839 :valores outliers\n",
      "La variable review_scores_location tiene: 2434 :valores outliers\n",
      "La variable review_scores_accuracy tiene: 2591 :valores outliers\n",
      "La variable review_scores_communication tiene: 2681 :valores outliers\n",
      "La variable review_scores_checkin tiene: 2601 :valores outliers\n",
      "La variable review_scores_rating tiene: 1789 :valores outliers\n",
      "La variable maximum_nights tiene: 13 :valores outliers\n",
      "La variable host_is_superhost tiene: 6887 :valores outliers\n",
      "La variable host_response_rate tiene: 6787 :valores outliers\n",
      "La variable host_listings_count tiene: 4711 :valores outliers\n",
      "La variable number_of_reviews_ltm_y tiene: 4949 :valores outliers\n",
      "La variable reviews_per_month_y tiene: 1251 :valores outliers\n",
      "La variable price_euro tiene: 3169 :valores outliers\n",
      "None\n"
     ]
    }
   ],
   "source": [
    "# Imprimimos nuestros outiers:\n",
    "print(outliers(df_encoded))"
   ]
  },
  {
   "cell_type": "code",
   "execution_count": 88,
   "metadata": {},
   "outputs": [
    {
     "data": {
      "text/plain": [
       "<Axes: xlabel='room_type', ylabel='price_euro'>"
      ]
     },
     "execution_count": 88,
     "metadata": {},
     "output_type": "execute_result"
    },
    {
     "data": {
      "image/png": "[encoded data removed]",
      "text/plain": [
       "<Figure size 640x480 with 1 Axes>"
      ]
     },
     "metadata": {},
     "output_type": "display_data"
    }
   ],
   "source": [
    "# Graficamos la variable room_type para ver como son sus precios y podemos ver que si hay mucha dispeción.\n",
    "sns.boxplot(x=\"room_type\", y=\"price_euro\", data=df_encoded,palette='rainbow')"
   ]
  },
  {
   "cell_type": "code",
   "execution_count": 89,
   "metadata": {},
   "outputs": [
    {
     "data": {
      "text/html": [
       "<div>\n",
       "<style scoped>\n",
       "    .dataframe tbody tr th:only-of-type {\n",
       "        vertical-align: middle;\n",
       "    }\n",
       "\n",
       "    .dataframe tbody tr th {\n",
       "        vertical-align: top;\n",
       "    }\n",
       "\n",
       "    .dataframe thead th {\n",
       "        text-align: right;\n",
       "    }\n",
       "</style>\n",
       "<table border=\"1\" class=\"dataframe\">\n",
       "  <thead>\n",
       "    <tr style=\"text-align: right;\">\n",
       "      <th></th>\n",
       "      <th>name</th>\n",
       "      <th>host_id</th>\n",
       "      <th>host_name</th>\n",
       "      <th>neighbourhood</th>\n",
       "      <th>latitude</th>\n",
       "      <th>longitude</th>\n",
       "      <th>room_type</th>\n",
       "      <th>price</th>\n",
       "      <th>minimum_nights</th>\n",
       "      <th>number_of_reviews</th>\n",
       "      <th>last_review</th>\n",
       "      <th>reviews_per_month_x</th>\n",
       "      <th>calculated_host_listings_count</th>\n",
       "      <th>availability_365</th>\n",
       "      <th>number_of_reviews_ltm_x</th>\n",
       "      <th>property_type</th>\n",
       "      <th>accommodates</th>\n",
       "      <th>first_review</th>\n",
       "      <th>review_scores_value</th>\n",
       "      <th>review_scores_cleanliness</th>\n",
       "      <th>review_scores_location</th>\n",
       "      <th>review_scores_accuracy</th>\n",
       "      <th>review_scores_communication</th>\n",
       "      <th>review_scores_checkin</th>\n",
       "      <th>review_scores_rating</th>\n",
       "      <th>maximum_nights</th>\n",
       "      <th>listing_url</th>\n",
       "      <th>host_is_superhost</th>\n",
       "      <th>host_response_time</th>\n",
       "      <th>host_response_rate</th>\n",
       "      <th>host_listings_count</th>\n",
       "      <th>number_of_reviews_ltm_y</th>\n",
       "      <th>reviews_per_month_y</th>\n",
       "      <th>price_euro</th>\n",
       "    </tr>\n",
       "    <tr>\n",
       "      <th>id</th>\n",
       "      <th></th>\n",
       "      <th></th>\n",
       "      <th></th>\n",
       "      <th></th>\n",
       "      <th></th>\n",
       "      <th></th>\n",
       "      <th></th>\n",
       "      <th></th>\n",
       "      <th></th>\n",
       "      <th></th>\n",
       "      <th></th>\n",
       "      <th></th>\n",
       "      <th></th>\n",
       "      <th></th>\n",
       "      <th></th>\n",
       "      <th></th>\n",
       "      <th></th>\n",
       "      <th></th>\n",
       "      <th></th>\n",
       "      <th></th>\n",
       "      <th></th>\n",
       "      <th></th>\n",
       "      <th></th>\n",
       "      <th></th>\n",
       "      <th></th>\n",
       "      <th></th>\n",
       "      <th></th>\n",
       "      <th></th>\n",
       "      <th></th>\n",
       "      <th></th>\n",
       "      <th></th>\n",
       "      <th></th>\n",
       "      <th></th>\n",
       "      <th></th>\n",
       "    </tr>\n",
       "  </thead>\n",
       "  <tbody>\n",
       "    <tr>\n",
       "      <th>25436</th>\n",
       "      <td>18095.0</td>\n",
       "      <td>105823.0</td>\n",
       "      <td>6246.0</td>\n",
       "      <td>9.0</td>\n",
       "      <td>41.07883</td>\n",
       "      <td>29.03863</td>\n",
       "      <td>0.0</td>\n",
       "      <td>2085.0</td>\n",
       "      <td>3.0</td>\n",
       "      <td>0.0</td>\n",
       "      <td>1525.0</td>\n",
       "      <td>NaN</td>\n",
       "      <td>1.0</td>\n",
       "      <td>348.0</td>\n",
       "      <td>0.0</td>\n",
       "      <td>22.0</td>\n",
       "      <td>3.0</td>\n",
       "      <td>2774.0</td>\n",
       "      <td>NaN</td>\n",
       "      <td>NaN</td>\n",
       "      <td>NaN</td>\n",
       "      <td>NaN</td>\n",
       "      <td>NaN</td>\n",
       "      <td>NaN</td>\n",
       "      <td>NaN</td>\n",
       "      <td>1125.0</td>\n",
       "      <td>1833.0</td>\n",
       "      <td>0.0</td>\n",
       "      <td>1.0</td>\n",
       "      <td>NaN</td>\n",
       "      <td>1.0</td>\n",
       "      <td>0.0</td>\n",
       "      <td>NaN</td>\n",
       "      <td>95.0</td>\n",
       "    </tr>\n",
       "    <tr>\n",
       "      <th>27271</th>\n",
       "      <td>21055.0</td>\n",
       "      <td>117026.0</td>\n",
       "      <td>4174.0</td>\n",
       "      <td>12.0</td>\n",
       "      <td>41.03254</td>\n",
       "      <td>28.98153</td>\n",
       "      <td>0.0</td>\n",
       "      <td>1044.0</td>\n",
       "      <td>3.0</td>\n",
       "      <td>4.0</td>\n",
       "      <td>1373.0</td>\n",
       "      <td>0.04</td>\n",
       "      <td>1.0</td>\n",
       "      <td>266.0</td>\n",
       "      <td>1.0</td>\n",
       "      <td>22.0</td>\n",
       "      <td>2.0</td>\n",
       "      <td>2408.0</td>\n",
       "      <td>5.00</td>\n",
       "      <td>4.75</td>\n",
       "      <td>5.00</td>\n",
       "      <td>5.00</td>\n",
       "      <td>5.00</td>\n",
       "      <td>5.00</td>\n",
       "      <td>5.00</td>\n",
       "      <td>90.0</td>\n",
       "      <td>2058.0</td>\n",
       "      <td>0.0</td>\n",
       "      <td>2.0</td>\n",
       "      <td>100.0</td>\n",
       "      <td>1.0</td>\n",
       "      <td>1.0</td>\n",
       "      <td>0.04</td>\n",
       "      <td>47.0</td>\n",
       "    </tr>\n",
       "    <tr>\n",
       "      <th>304011</th>\n",
       "      <td>6586.0</td>\n",
       "      <td>1564870.0</td>\n",
       "      <td>3419.0</td>\n",
       "      <td>12.0</td>\n",
       "      <td>41.03537</td>\n",
       "      <td>28.97316</td>\n",
       "      <td>0.0</td>\n",
       "      <td>1118.0</td>\n",
       "      <td>3.0</td>\n",
       "      <td>7.0</td>\n",
       "      <td>1510.0</td>\n",
       "      <td>0.26</td>\n",
       "      <td>2.0</td>\n",
       "      <td>240.0</td>\n",
       "      <td>7.0</td>\n",
       "      <td>22.0</td>\n",
       "      <td>4.0</td>\n",
       "      <td>2408.0</td>\n",
       "      <td>4.63</td>\n",
       "      <td>4.93</td>\n",
       "      <td>4.59</td>\n",
       "      <td>4.85</td>\n",
       "      <td>4.93</td>\n",
       "      <td>4.96</td>\n",
       "      <td>4.67</td>\n",
       "      <td>365.0</td>\n",
       "      <td>2719.0</td>\n",
       "      <td>0.0</td>\n",
       "      <td>3.0</td>\n",
       "      <td>100.0</td>\n",
       "      <td>2.0</td>\n",
       "      <td>7.0</td>\n",
       "      <td>0.26</td>\n",
       "      <td>51.0</td>\n",
       "    </tr>\n",
       "    <tr>\n",
       "      <th>304029</th>\n",
       "      <td>34871.0</td>\n",
       "      <td>1564916.0</td>\n",
       "      <td>2006.0</td>\n",
       "      <td>32.0</td>\n",
       "      <td>41.05156</td>\n",
       "      <td>28.99052</td>\n",
       "      <td>2.0</td>\n",
       "      <td>384.0</td>\n",
       "      <td>2.0</td>\n",
       "      <td>7.0</td>\n",
       "      <td>1438.0</td>\n",
       "      <td>0.27</td>\n",
       "      <td>1.0</td>\n",
       "      <td>94.0</td>\n",
       "      <td>1.0</td>\n",
       "      <td>53.0</td>\n",
       "      <td>2.0</td>\n",
       "      <td>2408.0</td>\n",
       "      <td>4.91</td>\n",
       "      <td>4.94</td>\n",
       "      <td>4.79</td>\n",
       "      <td>4.88</td>\n",
       "      <td>5.00</td>\n",
       "      <td>5.00</td>\n",
       "      <td>4.94</td>\n",
       "      <td>10.0</td>\n",
       "      <td>2721.0</td>\n",
       "      <td>0.0</td>\n",
       "      <td>3.0</td>\n",
       "      <td>100.0</td>\n",
       "      <td>1.0</td>\n",
       "      <td>1.0</td>\n",
       "      <td>0.27</td>\n",
       "      <td>17.0</td>\n",
       "    </tr>\n",
       "    <tr>\n",
       "      <th>28277</th>\n",
       "      <td>13406.0</td>\n",
       "      <td>121607.0</td>\n",
       "      <td>291.0</td>\n",
       "      <td>32.0</td>\n",
       "      <td>41.04672</td>\n",
       "      <td>28.98402</td>\n",
       "      <td>0.0</td>\n",
       "      <td>1857.0</td>\n",
       "      <td>3.0</td>\n",
       "      <td>8.0</td>\n",
       "      <td>1398.0</td>\n",
       "      <td>0.35</td>\n",
       "      <td>8.0</td>\n",
       "      <td>361.0</td>\n",
       "      <td>6.0</td>\n",
       "      <td>23.0</td>\n",
       "      <td>5.0</td>\n",
       "      <td>2087.0</td>\n",
       "      <td>4.75</td>\n",
       "      <td>4.75</td>\n",
       "      <td>5.00</td>\n",
       "      <td>5.00</td>\n",
       "      <td>5.00</td>\n",
       "      <td>4.88</td>\n",
       "      <td>5.00</td>\n",
       "      <td>360.0</td>\n",
       "      <td>2269.0</td>\n",
       "      <td>0.0</td>\n",
       "      <td>4.0</td>\n",
       "      <td>100.0</td>\n",
       "      <td>8.0</td>\n",
       "      <td>6.0</td>\n",
       "      <td>0.35</td>\n",
       "      <td>84.0</td>\n",
       "    </tr>\n",
       "  </tbody>\n",
       "</table>\n",
       "</div>"
      ],
      "text/plain": [
       "           name    host_id  host_name  neighbourhood  latitude  longitude  \\\n",
       "id                                                                          \n",
       "25436   18095.0   105823.0     6246.0            9.0  41.07883   29.03863   \n",
       "27271   21055.0   117026.0     4174.0           12.0  41.03254   28.98153   \n",
       "304011   6586.0  1564870.0     3419.0           12.0  41.03537   28.97316   \n",
       "304029  34871.0  1564916.0     2006.0           32.0  41.05156   28.99052   \n",
       "28277   13406.0   121607.0      291.0           32.0  41.04672   28.98402   \n",
       "\n",
       "        room_type   price  minimum_nights  number_of_reviews  last_review  \\\n",
       "id                                                                          \n",
       "25436         0.0  2085.0             3.0                0.0       1525.0   \n",
       "27271         0.0  1044.0             3.0                4.0       1373.0   \n",
       "304011        0.0  1118.0             3.0                7.0       1510.0   \n",
       "304029        2.0   384.0             2.0                7.0       1438.0   \n",
       "28277         0.0  1857.0             3.0                8.0       1398.0   \n",
       "\n",
       "        reviews_per_month_x  calculated_host_listings_count  availability_365  \\\n",
       "id                                                                              \n",
       "25436                   NaN                             1.0             348.0   \n",
       "27271                  0.04                             1.0             266.0   \n",
       "304011                 0.26                             2.0             240.0   \n",
       "304029                 0.27                             1.0              94.0   \n",
       "28277                  0.35                             8.0             361.0   \n",
       "\n",
       "        number_of_reviews_ltm_x  property_type  accommodates  first_review  \\\n",
       "id                                                                           \n",
       "25436                       0.0           22.0           3.0        2774.0   \n",
       "27271                       1.0           22.0           2.0        2408.0   \n",
       "304011                      7.0           22.0           4.0        2408.0   \n",
       "304029                      1.0           53.0           2.0        2408.0   \n",
       "28277                       6.0           23.0           5.0        2087.0   \n",
       "\n",
       "        review_scores_value  review_scores_cleanliness  \\\n",
       "id                                                       \n",
       "25436                   NaN                        NaN   \n",
       "27271                  5.00                       4.75   \n",
       "304011                 4.63                       4.93   \n",
       "304029                 4.91                       4.94   \n",
       "28277                  4.75                       4.75   \n",
       "\n",
       "        review_scores_location  review_scores_accuracy  \\\n",
       "id                                                       \n",
       "25436                      NaN                     NaN   \n",
       "27271                     5.00                    5.00   \n",
       "304011                    4.59                    4.85   \n",
       "304029                    4.79                    4.88   \n",
       "28277                     5.00                    5.00   \n",
       "\n",
       "        review_scores_communication  review_scores_checkin  \\\n",
       "id                                                           \n",
       "25436                           NaN                    NaN   \n",
       "27271                          5.00                   5.00   \n",
       "304011                         4.93                   4.96   \n",
       "304029                         5.00                   5.00   \n",
       "28277                          5.00                   4.88   \n",
       "\n",
       "        review_scores_rating  maximum_nights  listing_url  host_is_superhost  \\\n",
       "id                                                                             \n",
       "25436                    NaN          1125.0       1833.0                0.0   \n",
       "27271                   5.00            90.0       2058.0                0.0   \n",
       "304011                  4.67           365.0       2719.0                0.0   \n",
       "304029                  4.94            10.0       2721.0                0.0   \n",
       "28277                   5.00           360.0       2269.0                0.0   \n",
       "\n",
       "        host_response_time  host_response_rate  host_listings_count  \\\n",
       "id                                                                    \n",
       "25436                  1.0                 NaN                  1.0   \n",
       "27271                  2.0               100.0                  1.0   \n",
       "304011                 3.0               100.0                  2.0   \n",
       "304029                 3.0               100.0                  1.0   \n",
       "28277                  4.0               100.0                  8.0   \n",
       "\n",
       "        number_of_reviews_ltm_y  reviews_per_month_y  price_euro  \n",
       "id                                                                \n",
       "25436                       0.0                  NaN        95.0  \n",
       "27271                       1.0                 0.04        47.0  \n",
       "304011                      7.0                 0.26        51.0  \n",
       "304029                      1.0                 0.27        17.0  \n",
       "28277                       6.0                 0.35        84.0  "
      ]
     },
     "execution_count": 89,
     "metadata": {},
     "output_type": "execute_result"
    }
   ],
   "source": [
    "# Reemplazamos todos los outiers:\n",
    "reemplazar_outliers_iqr(df_encoded)"
   ]
  },
  {
   "cell_type": "code",
   "execution_count": 90,
   "metadata": {},
   "outputs": [
    {
     "data": {
      "text/plain": [
       "<Axes: xlabel='room_type', ylabel='price_euro'>"
      ]
     },
     "execution_count": 90,
     "metadata": {},
     "output_type": "execute_result"
    },
    {
     "data": {
      "image/png": "[encoded data removed]",
      "text/plain": [
       "<Figure size 640x480 with 1 Axes>"
      ]
     },
     "metadata": {},
     "output_type": "display_data"
    }
   ],
   "source": [
    "sns.boxplot(x=\"room_type\", y=\"price_euro\", data=df_encoded,palette='rainbow')"
   ]
  },
  {
   "attachments": {},
   "cell_type": "markdown",
   "metadata": {},
   "source": [
    "# 5. Análisis Exporatorio de Datos"
   ]
  },
  {
   "attachments": {},
   "cell_type": "markdown",
   "metadata": {},
   "source": [
    "Ahora con nuestro DF limpio procedemos a realizar nuestro análisis exploratorio.\n"
   ]
  },
  {
   "cell_type": "code",
   "execution_count": 91,
   "metadata": {},
   "outputs": [
    {
     "name": "stdout",
     "output_type": "stream",
     "text": [
      "El df esta formado por:  41501 filas y 34 columnas\n",
      "Cantidad de valores duplicados:  0\n",
      "Cantidad de valores nulos:  213686\n"
     ]
    }
   ],
   "source": [
    "reporte(df)"
   ]
  },
  {
   "cell_type": "code",
   "execution_count": 92,
   "metadata": {},
   "outputs": [],
   "source": [
    "# # ¿La ubicación es importante para el huésped?\n",
    "# feq=df['neighbourhood'].value_counts().sort_values(ascending=True)\n",
    "# feq.plot.barh(figsize=(12, 8), color='b', width=1)\n",
    "# plt.title(\"Number of listings by neighbourhood\", fontsize=20)\n",
    "# plt.xlabel('Number of listings', fontsize=12)\n",
    "# plt.show()"
   ]
  },
  {
   "cell_type": "code",
   "execution_count": 93,
   "metadata": {},
   "outputs": [],
   "source": [
    "# #Plotly version \n",
    "# px.bar(feq, orientation='h', title = \"Number of listings by neighbourhood\", template= \"plotly_dark\")"
   ]
  },
  {
   "cell_type": "code",
   "execution_count": 94,
   "metadata": {},
   "outputs": [
    {
     "data": {
      "text/plain": [
       "neighbourhood\n",
       "Beyoglu     9229\n",
       "Sisli       6254\n",
       "Kadikoy     4442\n",
       "Fatih       4036\n",
       "Besiktas    2649\n",
       "Name: count, dtype: int64"
      ]
     },
     "execution_count": 94,
     "metadata": {},
     "output_type": "execute_result"
    }
   ],
   "source": [
    "feq.sort_values(ascending=False).head()"
   ]
  },
  {
   "cell_type": "code",
   "execution_count": 95,
   "metadata": {},
   "outputs": [],
   "source": [
    "# adam = gpd.read_file(\"input/neighbourhoods.geojson\")\n",
    "# # Asegurarse de que 'feq' es un DataFrame de pandas correcto antes de transponerlo\n",
    "# # Si 'feq' es un DataFrame, no necesitamos encapsularlo en una lista y convertirlo a DataFrame otra vez\n",
    "# feq = feq.transpose()\n",
    "# # Mezclamos\n",
    "# adam = pd.merge(adam, feq, on='neighbourhood', how='left')\n",
    "\n",
    "# # Renombramos la columna\n",
    "# adam.rename(columns={'price': 'average_price'}, inplace=True)\n",
    "\n",
    "# # Redondeamos el precio\n",
    "# adam.average_price = adam.average_price.round(decimals=2)\n",
    "\n",
    "# # Conseguimos colores para nuestras casas \n",
    "# map_dict = adam.set_index('neighbourhood')['average_price'].to_dict()\n",
    "# color_scale = LinearColormap(['yellow','red'], vmin = min(map_dict.values()), vmax = max(map_dict.values()))\n",
    "\n",
    "# def get_color(feature):\n",
    "#     value = map_dict.get(feature['properties']['neighbourhood'])\n",
    "#     if value is not None:\n",
    "#         return color_scale(value)\n",
    "#     else:\n",
    "#         return 'grey'  # Un color predeterminado si el barrio no está en el diccionario"
   ]
  },
  {
   "attachments": {},
   "cell_type": "markdown",
   "metadata": {},
   "source": [
    "# 6. Modelado"
   ]
  },
  {
   "attachments": {},
   "cell_type": "markdown",
   "metadata": {},
   "source": [
    "## 6.1 normalización de los datos"
   ]
  },
  {
   "attachments": {},
   "cell_type": "markdown",
   "metadata": {},
   "source": [
    "# 7. Informe"
   ]
  }
 ],
 "metadata": {
  "kernelspec": {
   "display_name": "Python 3",
   "language": "python",
   "name": "python3"
  },
  "language_info": {
   "codemirror_mode": {
    "name": "ipython",
    "version": 3
   },
   "file_extension": ".py",
   "mimetype": "text/x-python",
   "name": "python",
   "nbconvert_exporter": "python",
   "pygments_lexer": "ipython3",
   "version": "3.10.11"
  },
  "orig_nbformat": 4
 },
 "nbformat": 4,
 "nbformat_minor": 2
}
